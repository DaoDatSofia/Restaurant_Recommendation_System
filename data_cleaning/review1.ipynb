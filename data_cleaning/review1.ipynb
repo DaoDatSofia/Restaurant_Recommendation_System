{
 "cells": [
  {
   "cell_type": "code",
   "execution_count": 1,
   "metadata": {},
   "outputs": [],
   "source": [
    "import json\n",
    "import pandas as pd"
   ]
  },
  {
   "cell_type": "code",
   "execution_count": 3,
   "metadata": {},
   "outputs": [],
   "source": [
    "\n",
    "#since pd.readjson will cause memeory error, we read the file line by line\n",
    "path = 'C:/Users/tempadmin/Downloads/data/yelp_academic_dataset_review.json/yelp_academic_dataset_review.json'\n",
    "review = []"
   ]
  },
  {
   "cell_type": "code",
   "execution_count": 6,
   "metadata": {},
   "outputs": [],
   "source": [
    "import glob\n",
    "\n",
    "chunk_size = 100000  # Kích thước mỗi phần\n",
    "chunks = []\n",
    "\n",
    "with open(path, encoding='utf-8') as fin:\n",
    "    for i, line in enumerate(fin):\n",
    "        line_contents = json.loads(line)\n",
    "        chunks.append(line_contents)\n",
    "        \n",
    "        if (i + 1) % chunk_size == 0:\n",
    "            review_chunk = pd.DataFrame(chunks)\n",
    "            review_chunk.to_csv(f\"C:/Users/tempadmin/OneDrive/Desktop/Code/Restaurant-Recommendation-System-using-Yelp-Dataset/data/reviews_chunk_{i // chunk_size}.csv\", index=False)\n",
    "            chunks = []  # Xóa bộ nhớ tạm thời\n",
    "\n",
    "    if chunks:\n",
    "        review_chunk = pd.DataFrame(chunks)\n",
    "        review_chunk.to_csv(f\"C:/Users/tempadmin/OneDrive/Desktop/Code/Restaurant-Recommendation-System-using-Yelp-Dataset/data/reviews_chunk_{i // chunk_size + 1}.csv\", index=False)\n",
    "\n",
    "\n",
    "all_filenames = glob.glob(\"C:/Users/tempadmin/OneDrive/Desktop/Code/Restaurant-Recommendation-System-using-Yelp-Dataset/data/reviews_chunk_*.csv\")\n",
    "combined_csv = pd.concat([pd.read_csv(f) for f in all_filenames])\n",
    "combined_csv.to_csv(\"D:\\\\Workspace\\\\Data_Mining\\\\Restaurant_Recomendation_System\\\\data\\\\reviews.csv\", index=False)\n"
   ]
  },
  {
   "cell_type": "code",
   "execution_count": 3,
   "metadata": {},
   "outputs": [],
   "source": [
    "\n",
    "review = pd.read_csv('D:\\\\Workspace\\\\Data_Mining\\\\Restaurant_Recomendation_System\\\\data\\\\reviews.csv')\n",
    "business = pd.read_csv('D:\\\\Workspace\\\\Data_Mining\\\\Restaurant_Recomendation_System\\\\data\\\\business.csv')\n",
    "\n",
    "business_id_ls = business.business_id.unique()\n",
    "review_idx = [i for i in range(review.shape[0]) if review.business_id[i] in business_id_ls]\n",
    "\n",
    "review = review.iloc[review_idx,:]\n",
    "\n",
    "# Check if 'Unnamed: 0' column exists before dropping it\n",
    "if 'Unnamed: 0' in review.columns:\n",
    "\treview = review.drop(columns=['Unnamed: 0'])\n",
    "\n",
    "review.index = range(review.shape[0])\n",
    "\n",
    "yr_ls = [eval(x.split('-')[0]) for x in review.date]\n",
    "review['year'] = yr_ls\n",
    "\n",
    "#WRITE THE FILE INTO CSV FORMAT\n",
    "review.to_csv('D:\\\\Workspace\\\\Data_Mining\\\\Restaurant_Recomendation_System\\\\data\\\\IL_review.csv')"
   ]
  }
 ],
 "metadata": {
  "kernelspec": {
   "display_name": ".venv",
   "language": "python",
   "name": "python3"
  },
  "language_info": {
   "codemirror_mode": {
    "name": "ipython",
    "version": 3
   },
   "file_extension": ".py",
   "mimetype": "text/x-python",
   "name": "python",
   "nbconvert_exporter": "python",
   "pygments_lexer": "ipython3",
   "version": "3.10.11"
  }
 },
 "nbformat": 4,
 "nbformat_minor": 2
}
