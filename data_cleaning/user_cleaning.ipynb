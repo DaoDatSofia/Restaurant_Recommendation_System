{
 "cells": [
  {
   "cell_type": "code",
   "execution_count": 1,
   "metadata": {},
   "outputs": [],
   "source": [
    "import json\n",
    "import pandas as pd"
   ]
  },
  {
   "cell_type": "code",
   "execution_count": 3,
   "metadata": {},
   "outputs": [
    {
     "data": {
      "text/plain": [
       "(1987897, 22)"
      ]
     },
     "execution_count": 3,
     "metadata": {},
     "output_type": "execute_result"
    }
   ],
   "source": [
    "\n",
    "path = \"C:/Users/tempadmin/Downloads/data/yelp_academic_dataset_user.json/yelp_academic_dataset_user.json\"\n",
    "user = []\n",
    "with open(path, encoding = 'utf-8') as fin:\n",
    "    for line in fin:\n",
    "        line_contents = json.loads(line)\n",
    "        user.append(line_contents)\n",
    "        \n",
    "user = pd.DataFrame(user)\n",
    "user.shape"
   ]
  },
  {
   "cell_type": "code",
   "execution_count": 4,
   "metadata": {},
   "outputs": [],
   "source": [
    "user.to_csv(\"D:\\\\Workspace\\\\Data_Mining\\\\Restaurant_Recomendation_System\\\\data\\\\users.csv\")"
   ]
  }
 ],
 "metadata": {
  "kernelspec": {
   "display_name": ".venv",
   "language": "python",
   "name": "python3"
  },
  "language_info": {
   "codemirror_mode": {
    "name": "ipython",
    "version": 3
   },
   "file_extension": ".py",
   "mimetype": "text/x-python",
   "name": "python",
   "nbconvert_exporter": "python",
   "pygments_lexer": "ipython3",
   "version": "3.10.11"
  }
 },
 "nbformat": 4,
 "nbformat_minor": 2
}
