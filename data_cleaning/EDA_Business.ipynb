{
  "cells": [
    {
      "cell_type": "code",
      "execution_count": 1,
      "metadata": {
        "colab": {
          "base_uri": "https://localhost:8080/"
        },
        "id": "kjKkOzh4UUGJ",
        "outputId": "8c3b478b-50b9-4726-9d42-5e97d1aa5e81"
      },
      "outputs": [
        {
          "name": "stdout",
          "output_type": "stream",
          "text": [
            "Requirement already satisfied: fuzzywuzzy in d:\\restaurant-recommendation-system-using-yelp-dataset\\.venv\\lib\\site-packages (0.18.0)\n",
            "Note: you may need to restart the kernel to use updated packages.\n"
          ]
        }
      ],
      "source": [
        "pip install fuzzywuzzy\n"
      ]
    },
    {
      "cell_type": "code",
      "execution_count": 2,
      "metadata": {
        "colab": {
          "base_uri": "https://localhost:8080/"
        },
        "id": "PCXQWl_QU0ow",
        "outputId": "9317399f-9727-4467-98b6-35a7f15f57d8"
      },
      "outputs": [
        {
          "name": "stdout",
          "output_type": "stream",
          "text": [
            "Requirement already satisfied: stop-words in d:\\restaurant-recommendation-system-using-yelp-dataset\\.venv\\lib\\site-packages (2018.7.23)\n",
            "Note: you may need to restart the kernel to use updated packages.\n"
          ]
        }
      ],
      "source": [
        "pip install stop-words\n"
      ]
    },
    {
      "cell_type": "code",
      "execution_count": 3,
      "metadata": {
        "colab": {
          "base_uri": "https://localhost:8080/"
        },
        "id": "u-LtAzLjVi9v",
        "outputId": "ad01dee1-c7dd-4a2c-80b4-5fc24164a1db"
      },
      "outputs": [
        {
          "name": "stdout",
          "output_type": "stream",
          "text": [
            "Requirement already satisfied: basemap in d:\\restaurant-recommendation-system-using-yelp-dataset\\.venv\\lib\\site-packages (1.4.1)\n",
            "Requirement already satisfied: basemap-data<1.4,>=1.3.2 in d:\\restaurant-recommendation-system-using-yelp-dataset\\.venv\\lib\\site-packages (from basemap) (1.3.2)\n",
            "Requirement already satisfied: pyshp<2.4,>=1.2 in d:\\restaurant-recommendation-system-using-yelp-dataset\\.venv\\lib\\site-packages (from basemap) (2.3.1)\n",
            "Requirement already satisfied: matplotlib<3.9,>=1.5 in d:\\restaurant-recommendation-system-using-yelp-dataset\\.venv\\lib\\site-packages (from basemap) (3.8.4)\n",
            "Requirement already satisfied: pyproj<3.7.0,>=1.9.3 in d:\\restaurant-recommendation-system-using-yelp-dataset\\.venv\\lib\\site-packages (from basemap) (3.6.1)\n",
            "Requirement already satisfied: packaging<24.0,>=16.0 in d:\\restaurant-recommendation-system-using-yelp-dataset\\.venv\\lib\\site-packages (from basemap) (23.2)\n",
            "Requirement already satisfied: numpy<1.27,>=1.21 in d:\\restaurant-recommendation-system-using-yelp-dataset\\.venv\\lib\\site-packages (from basemap) (1.26.4)\n",
            "Requirement already satisfied: contourpy>=1.0.1 in d:\\restaurant-recommendation-system-using-yelp-dataset\\.venv\\lib\\site-packages (from matplotlib<3.9,>=1.5->basemap) (1.3.1)\n",
            "Requirement already satisfied: cycler>=0.10 in d:\\restaurant-recommendation-system-using-yelp-dataset\\.venv\\lib\\site-packages (from matplotlib<3.9,>=1.5->basemap) (0.12.1)\n",
            "Requirement already satisfied: fonttools>=4.22.0 in d:\\restaurant-recommendation-system-using-yelp-dataset\\.venv\\lib\\site-packages (from matplotlib<3.9,>=1.5->basemap) (4.55.3)\n",
            "Requirement already satisfied: kiwisolver>=1.3.1 in d:\\restaurant-recommendation-system-using-yelp-dataset\\.venv\\lib\\site-packages (from matplotlib<3.9,>=1.5->basemap) (1.4.8)\n",
            "Requirement already satisfied: pillow>=8 in d:\\restaurant-recommendation-system-using-yelp-dataset\\.venv\\lib\\site-packages (from matplotlib<3.9,>=1.5->basemap) (11.1.0)\n",
            "Requirement already satisfied: pyparsing>=2.3.1 in d:\\restaurant-recommendation-system-using-yelp-dataset\\.venv\\lib\\site-packages (from matplotlib<3.9,>=1.5->basemap) (3.2.1)\n",
            "Requirement already satisfied: python-dateutil>=2.7 in d:\\restaurant-recommendation-system-using-yelp-dataset\\.venv\\lib\\site-packages (from matplotlib<3.9,>=1.5->basemap) (2.9.0.post0)\n",
            "Requirement already satisfied: certifi in d:\\restaurant-recommendation-system-using-yelp-dataset\\.venv\\lib\\site-packages (from pyproj<3.7.0,>=1.9.3->basemap) (2024.12.14)\n",
            "Requirement already satisfied: six>=1.5 in d:\\restaurant-recommendation-system-using-yelp-dataset\\.venv\\lib\\site-packages (from python-dateutil>=2.7->matplotlib<3.9,>=1.5->basemap) (1.17.0)\n",
            "Note: you may need to restart the kernel to use updated packages.\n"
          ]
        }
      ],
      "source": [
        "pip install basemap\n"
      ]
    },
    {
      "cell_type": "code",
      "execution_count": 4,
      "metadata": {},
      "outputs": [
        {
          "name": "stdout",
          "output_type": "stream",
          "text": [
            "Requirement already satisfied: chardet in d:\\restaurant-recommendation-system-using-yelp-dataset\\.venv\\lib\\site-packages (5.2.0)\n",
            "Note: you may need to restart the kernel to use updated packages.\n"
          ]
        }
      ],
      "source": [
        "pip install chardet\n"
      ]
    },
    {
      "cell_type": "code",
      "execution_count": 5,
      "metadata": {},
      "outputs": [
        {
          "name": "stdout",
          "output_type": "stream",
          "text": [
            "Requirement already satisfied: nltk in d:\\restaurant-recommendation-system-using-yelp-dataset\\.venv\\lib\\site-packages (3.9.1)\n",
            "Requirement already satisfied: click in d:\\restaurant-recommendation-system-using-yelp-dataset\\.venv\\lib\\site-packages (from nltk) (8.1.8)\n",
            "Requirement already satisfied: joblib in d:\\restaurant-recommendation-system-using-yelp-dataset\\.venv\\lib\\site-packages (from nltk) (1.4.2)\n",
            "Requirement already satisfied: regex>=2021.8.3 in d:\\restaurant-recommendation-system-using-yelp-dataset\\.venv\\lib\\site-packages (from nltk) (2024.11.6)\n",
            "Requirement already satisfied: tqdm in d:\\restaurant-recommendation-system-using-yelp-dataset\\.venv\\lib\\site-packages (from nltk) (4.67.1)\n",
            "Requirement already satisfied: colorama in d:\\restaurant-recommendation-system-using-yelp-dataset\\.venv\\lib\\site-packages (from click->nltk) (0.4.6)\n",
            "Note: you may need to restart the kernel to use updated packages.\n"
          ]
        }
      ],
      "source": [
        "pip install nltk\n"
      ]
    },
    {
      "cell_type": "code",
      "execution_count": 6,
      "metadata": {},
      "outputs": [
        {
          "name": "stdout",
          "output_type": "stream",
          "text": [
            "Requirement already satisfied: wordcloud in d:\\restaurant-recommendation-system-using-yelp-dataset\\.venv\\lib\\site-packages (1.9.4)\n",
            "Requirement already satisfied: numpy>=1.6.1 in d:\\restaurant-recommendation-system-using-yelp-dataset\\.venv\\lib\\site-packages (from wordcloud) (1.26.4)\n",
            "Requirement already satisfied: pillow in d:\\restaurant-recommendation-system-using-yelp-dataset\\.venv\\lib\\site-packages (from wordcloud) (11.1.0)\n",
            "Requirement already satisfied: matplotlib in d:\\restaurant-recommendation-system-using-yelp-dataset\\.venv\\lib\\site-packages (from wordcloud) (3.8.4)\n",
            "Requirement already satisfied: contourpy>=1.0.1 in d:\\restaurant-recommendation-system-using-yelp-dataset\\.venv\\lib\\site-packages (from matplotlib->wordcloud) (1.3.1)\n",
            "Requirement already satisfied: cycler>=0.10 in d:\\restaurant-recommendation-system-using-yelp-dataset\\.venv\\lib\\site-packages (from matplotlib->wordcloud) (0.12.1)\n",
            "Requirement already satisfied: fonttools>=4.22.0 in d:\\restaurant-recommendation-system-using-yelp-dataset\\.venv\\lib\\site-packages (from matplotlib->wordcloud) (4.55.3)\n",
            "Requirement already satisfied: kiwisolver>=1.3.1 in d:\\restaurant-recommendation-system-using-yelp-dataset\\.venv\\lib\\site-packages (from matplotlib->wordcloud) (1.4.8)\n",
            "Requirement already satisfied: packaging>=20.0 in d:\\restaurant-recommendation-system-using-yelp-dataset\\.venv\\lib\\site-packages (from matplotlib->wordcloud) (23.2)\n",
            "Requirement already satisfied: pyparsing>=2.3.1 in d:\\restaurant-recommendation-system-using-yelp-dataset\\.venv\\lib\\site-packages (from matplotlib->wordcloud) (3.2.1)\n",
            "Requirement already satisfied: python-dateutil>=2.7 in d:\\restaurant-recommendation-system-using-yelp-dataset\\.venv\\lib\\site-packages (from matplotlib->wordcloud) (2.9.0.post0)\n",
            "Requirement already satisfied: six>=1.5 in d:\\restaurant-recommendation-system-using-yelp-dataset\\.venv\\lib\\site-packages (from python-dateutil>=2.7->matplotlib->wordcloud) (1.17.0)\n",
            "Note: you may need to restart the kernel to use updated packages.\n"
          ]
        }
      ],
      "source": [
        "pip install wordcloud\n"
      ]
    },
    {
      "cell_type": "code",
      "execution_count": 7,
      "metadata": {},
      "outputs": [
        {
          "name": "stdout",
          "output_type": "stream",
          "text": [
            "Requirement already satisfied: imageio in d:\\restaurant-recommendation-system-using-yelp-dataset\\.venv\\lib\\site-packages (2.36.1)\n",
            "Requirement already satisfied: numpy in d:\\restaurant-recommendation-system-using-yelp-dataset\\.venv\\lib\\site-packages (from imageio) (1.26.4)\n",
            "Requirement already satisfied: pillow>=8.3.2 in d:\\restaurant-recommendation-system-using-yelp-dataset\\.venv\\lib\\site-packages (from imageio) (11.1.0)\n",
            "Note: you may need to restart the kernel to use updated packages.\n"
          ]
        }
      ],
      "source": [
        "pip install imageio\n"
      ]
    },
    {
      "cell_type": "code",
      "execution_count": 8,
      "metadata": {},
      "outputs": [
        {
          "name": "stdout",
          "output_type": "stream",
          "text": [
            "Requirement already satisfied: folium in d:\\restaurant-recommendation-system-using-yelp-dataset\\.venv\\lib\\site-packages (0.19.3)\n",
            "Requirement already satisfied: branca>=0.6.0 in d:\\restaurant-recommendation-system-using-yelp-dataset\\.venv\\lib\\site-packages (from folium) (0.8.1)\n",
            "Requirement already satisfied: jinja2>=2.9 in d:\\restaurant-recommendation-system-using-yelp-dataset\\.venv\\lib\\site-packages (from folium) (3.1.5)\n",
            "Requirement already satisfied: numpy in d:\\restaurant-recommendation-system-using-yelp-dataset\\.venv\\lib\\site-packages (from folium) (1.26.4)\n",
            "Requirement already satisfied: requests in d:\\restaurant-recommendation-system-using-yelp-dataset\\.venv\\lib\\site-packages (from folium) (2.32.3)\n",
            "Requirement already satisfied: xyzservices in d:\\restaurant-recommendation-system-using-yelp-dataset\\.venv\\lib\\site-packages (from folium) (2024.9.0)\n",
            "Requirement already satisfied: MarkupSafe>=2.0 in d:\\restaurant-recommendation-system-using-yelp-dataset\\.venv\\lib\\site-packages (from jinja2>=2.9->folium) (3.0.2)\n",
            "Requirement already satisfied: charset-normalizer<4,>=2 in d:\\restaurant-recommendation-system-using-yelp-dataset\\.venv\\lib\\site-packages (from requests->folium) (3.4.1)\n",
            "Requirement already satisfied: idna<4,>=2.5 in d:\\restaurant-recommendation-system-using-yelp-dataset\\.venv\\lib\\site-packages (from requests->folium) (3.10)\n",
            "Requirement already satisfied: urllib3<3,>=1.21.1 in d:\\restaurant-recommendation-system-using-yelp-dataset\\.venv\\lib\\site-packages (from requests->folium) (2.3.0)\n",
            "Requirement already satisfied: certifi>=2017.4.17 in d:\\restaurant-recommendation-system-using-yelp-dataset\\.venv\\lib\\site-packages (from requests->folium) (2024.12.14)\n",
            "Note: you may need to restart the kernel to use updated packages.\n"
          ]
        }
      ],
      "source": [
        "pip install folium\n"
      ]
    },
    {
      "cell_type": "code",
      "execution_count": 9,
      "metadata": {
        "id": "T9My-_IMR6ji"
      },
      "outputs": [
        {
          "name": "stderr",
          "output_type": "stream",
          "text": [
            "d:\\Restaurant-Recommendation-System-using-Yelp-Dataset\\.venv\\Lib\\site-packages\\fuzzywuzzy\\fuzz.py:11: UserWarning: Using slow pure-python SequenceMatcher. Install python-Levenshtein to remove this warning\n",
            "  warnings.warn('Using slow pure-python SequenceMatcher. Install python-Levenshtein to remove this warning')\n"
          ]
        }
      ],
      "source": [
        "import seaborn as sns\n",
        "import pandas as pd\n",
        "import matplotlib.pyplot as plt\n",
        "import json,os\n",
        "import numpy as np\n",
        "import plotly.express as px\n",
        "import plotly.graph_objects as go\n",
        "from collections import Counter\n",
        "\n",
        "import fuzzywuzzy\n",
        "from fuzzywuzzy import process\n",
        "import chardet\n",
        "from collections import Counter\n",
        "from nltk.tokenize import RegexpTokenizer\n",
        "from stop_words import get_stop_words\n",
        "import nltk\n",
        "from nltk.corpus import stopwords\n",
        "from nltk import sent_tokenize, word_tokenize\n",
        "import warnings\n",
        "warnings.filterwarnings('ignore')\n",
        "import re\n",
        "from wordcloud import WordCloud, STOPWORDS\n",
        "#viz\n",
        "import matplotlib.pyplot as plt\n",
        "import seaborn as sns\n",
        "import matplotlib.gridspec as gridspec\n",
        "\n",
        "import plotly.offline as pyo\n",
        "\n",
        "from plotly.graph_objs import *\n",
        "import plotly.graph_objs as go\n",
        "\n",
        "import imageio\n",
        "import folium\n",
        "import folium.plugins as plugins\n",
        "os.environ['PROJ_LIB'] = 'C:/Users/shouv/Anaconda3/Lib/site-packages/mpl_toolkits/basemap'\n",
        "from mpl_toolkits.basemap import Basemap\n",
        "\n",
        "\n",
        "business = pd.read_json('yelp_academic_dataset_business.json', lines=True)"
      ]
    },
    {
      "cell_type": "markdown",
      "metadata": {
        "id": "h_LMEIDWR6jl"
      },
      "source": [
        "### First we will chek the columns of the business data"
      ]
    },
    {
      "cell_type": "code",
      "execution_count": 10,
      "metadata": {
        "colab": {
          "base_uri": "https://localhost:8080/"
        },
        "id": "FCEjNrbMR6jm",
        "outputId": "f570e53e-4076-433b-e3d9-88d892116a14"
      },
      "outputs": [
        {
          "data": {
            "text/plain": [
              "Index(['business_id', 'name', 'address', 'city', 'state', 'postal_code',\n",
              "       'latitude', 'longitude', 'stars', 'review_count', 'is_open',\n",
              "       'attributes', 'categories', 'hours'],\n",
              "      dtype='object')"
            ]
          },
          "execution_count": 10,
          "metadata": {},
          "output_type": "execute_result"
        }
      ],
      "source": [
        "business.columns"
      ]
    },
    {
      "cell_type": "code",
      "execution_count": 11,
      "metadata": {
        "colab": {
          "base_uri": "https://localhost:8080/"
        },
        "id": "Tc6DvbzTR6jn",
        "outputId": "eae21811-dc63-45da-84f3-b553f44c5117"
      },
      "outputs": [
        {
          "data": {
            "text/plain": [
              "103"
            ]
          },
          "execution_count": 11,
          "metadata": {},
          "output_type": "execute_result"
        }
      ],
      "source": [
        "business.categories.isnull().sum()"
      ]
    },
    {
      "cell_type": "code",
      "execution_count": 12,
      "metadata": {
        "colab": {
          "base_uri": "https://localhost:8080/",
          "height": 521
        },
        "id": "pXnI8DHJR6jn",
        "outputId": "2e1a2122-4f3a-45f2-8e65-e87ae0a5d166"
      },
      "outputs": [
        {
          "data": {
            "image/png": "[encoded data removed]",
            "text/plain": [
              "<Figure size 1500x600 with 1 Axes>"
            ]
          },
          "metadata": {},
          "output_type": "display_data"
        }
      ],
      "source": [
        "plt.figure(1, figsize=(15,6))\n",
        "m1=Basemap(projection='ortho',lat_0=20,lon_0=-50)\n",
        "\n",
        "m1.fillcontinents(color='#bbdaa4',lake_color='#4a80f5')\n",
        "m1.drawmapboundary(fill_color='#4a80f5')\n",
        "m1.drawcountries(linewidth=0.1, color=\"black\")\n",
        "\n",
        "mxy = m1(business[\"longitude\"].tolist(), business[\"latitude\"].tolist())\n",
        "m1.scatter(mxy[0], mxy[1], s=3, c=\"orange\", lw=3, alpha=1, zorder=5)\n",
        "plt.title(\"World-wide Yelp Reviews\")\n",
        "plt.show()"
      ]
    },
    {
      "cell_type": "code",
      "execution_count": 13,
      "metadata": {
        "colab": {
          "base_uri": "https://localhost:8080/",
          "height": 1000
        },
        "id": "ahBA09XMR6jn",
        "outputId": "3deebb9d-ce38-4296-ff01-369fe28e4c0e"
      },
      "outputs": [
        {
          "data": {
            "image/png": "[encoded data removed]",
            "text/plain": [
              "<Figure size 1200x600 with 1 Axes>"
            ]
          },
          "metadata": {},
          "output_type": "display_data"
        },
        {
          "data": {
            "image/png": "[encoded data removed]",
            "text/plain": [
              "<Figure size 1200x600 with 1 Axes>"
            ]
          },
          "metadata": {},
          "output_type": "display_data"
        }
      ],
      "source": [
        "lon_min, lon_max = -132.714844, -59.589844\n",
        "lat_min, lat_max = 13.976715,56.395664\n",
        "\n",
        "idx_NA = (business[\"longitude\"]>lon_min) &\\\n",
        "            (business[\"longitude\"]<lon_max) &\\\n",
        "            (business[\"latitude\"]>lat_min) &\\\n",
        "            (business[\"latitude\"]<lat_max)\n",
        "NA_business=business[idx_NA]\n",
        "\n",
        "plt.figure(figsize=(12,6))\n",
        "m2 = Basemap(projection='merc',\n",
        "             llcrnrlat=lat_min,\n",
        "             urcrnrlat=lat_max,\n",
        "             llcrnrlon=lon_min,\n",
        "             urcrnrlon=lon_max,\n",
        "             lat_ts=35,\n",
        "             resolution='i')\n",
        "\n",
        "m2.fillcontinents(color='#191919',lake_color='#000000')\n",
        "m2.drawmapboundary(fill_color='#000000')               \n",
        "m2.drawcountries(linewidth=0.1, color=\"w\")              \n",
        "\n",
        "mxy = m2(NA_business[\"longitude\"].tolist(), NA_business[\"latitude\"].tolist())\n",
        "m2.scatter(mxy[0], mxy[1], s=5, c=\"#1292db\", lw=0, alpha=0.05, zorder=5)\n",
        "\n",
        "plt.title(\"North America Region\")\n",
        "lon_min, lon_max = -8.613281,16.699219\n",
        "lat_min, lat_max = 40.488737,59.204064\n",
        "\n",
        "idx_euro = (business[\"longitude\"]>lon_min) &\\\n",
        "            (business[\"longitude\"]<lon_max) &\\\n",
        "            (business[\"latitude\"]>lat_min) &\\\n",
        "            (business[\"latitude\"]<lat_max)\n",
        "euro_business=business[idx_euro]\n",
        "\n",
        "plt.figure(figsize=(12,6))\n",
        "m3 = Basemap(projection='merc',\n",
        "             llcrnrlat=lat_min,\n",
        "             urcrnrlat=lat_max,\n",
        "             llcrnrlon=lon_min,\n",
        "             urcrnrlon=lon_max,\n",
        "             lat_ts=35,\n",
        "             resolution='i')\n",
        "\n",
        "m3.fillcontinents(color='#191919',lake_color='#000000') \n",
        "m3.drawmapboundary(fill_color='#000000')                \n",
        "m3.drawcountries(linewidth=0.1, color=\"w\")              \n",
        "\n",
        "# Plot the data\n",
        "mxy = m3(euro_business[\"longitude\"].tolist(), euro_business[\"latitude\"].tolist())\n",
        "m3.scatter(mxy[0], mxy[1], s=5, c=\"#1292db\", lw=0, alpha=0.05, zorder=5)\n",
        "\n",
        "plt.title(\"Europe Region\")\n",
        "plt.show()"
      ]
    },
    {
      "cell_type": "code",
      "execution_count": 14,
      "metadata": {
        "id": "AucmBQizR6jo"
      },
      "outputs": [],
      "source": [
        "business.categories = business.categories.fillna(\" \")"
      ]
    },
    {
      "cell_type": "code",
      "execution_count": 15,
      "metadata": {
        "colab": {
          "base_uri": "https://localhost:8080/"
        },
        "id": "k0i9A733R6jo",
        "outputId": "60462636-7e29-42f6-8007-482d397fba33"
      },
      "outputs": [
        {
          "data": {
            "text/plain": [
              "0"
            ]
          },
          "execution_count": 15,
          "metadata": {},
          "output_type": "execute_result"
        }
      ],
      "source": [
        "business.categories.isnull().sum()"
      ]
    },
    {
      "cell_type": "code",
      "execution_count": 16,
      "metadata": {
        "colab": {
          "base_uri": "https://localhost:8080/",
          "height": 209
        },
        "id": "NmzaxNWcR6jp",
        "outputId": "1f64d4ae-71d3-4404-9410-668a6243dcc7"
      },
      "outputs": [
        {
          "data": {
            "text/plain": [
              "count                     150346\n",
              "unique                    150346\n",
              "top       Pns2l4eNsfO8kk83dixA6A\n",
              "freq                           1\n",
              "Name: business_id, dtype: object"
            ]
          },
          "execution_count": 16,
          "metadata": {},
          "output_type": "execute_result"
        }
      ],
      "source": [
        "business.business_id.describe()"
      ]
    },
    {
      "cell_type": "code",
      "execution_count": 17,
      "metadata": {
        "colab": {
          "base_uri": "https://localhost:8080/",
          "height": 423
        },
        "id": "9nGG2tF6R6jp",
        "outputId": "a55e06f2-7aea-4797-c7eb-22ffc981de2f"
      },
      "outputs": [
        {
          "data": {
            "text/html": [
              "<div>\n",
              "<style scoped>\n",
              "    .dataframe tbody tr th:only-of-type {\n",
              "        vertical-align: middle;\n",
              "    }\n",
              "\n",
              "    .dataframe tbody tr th {\n",
              "        vertical-align: top;\n",
              "    }\n",
              "\n",
              "    .dataframe thead th {\n",
              "        text-align: right;\n",
              "    }\n",
              "</style>\n",
              "<table border=\"1\" class=\"dataframe\">\n",
              "  <thead>\n",
              "    <tr style=\"text-align: right;\">\n",
              "      <th></th>\n",
              "      <th>Categories</th>\n",
              "      <th>Count</th>\n",
              "    </tr>\n",
              "  </thead>\n",
              "  <tbody>\n",
              "    <tr>\n",
              "      <th>0</th>\n",
              "      <td>Restaurants</td>\n",
              "      <td>52268</td>\n",
              "    </tr>\n",
              "    <tr>\n",
              "      <th>1</th>\n",
              "      <td>Food</td>\n",
              "      <td>27781</td>\n",
              "    </tr>\n",
              "    <tr>\n",
              "      <th>2</th>\n",
              "      <td>Shopping</td>\n",
              "      <td>24395</td>\n",
              "    </tr>\n",
              "    <tr>\n",
              "      <th>3</th>\n",
              "      <td>Home Services</td>\n",
              "      <td>14356</td>\n",
              "    </tr>\n",
              "    <tr>\n",
              "      <th>4</th>\n",
              "      <td>Beauty &amp; Spas</td>\n",
              "      <td>14292</td>\n",
              "    </tr>\n",
              "    <tr>\n",
              "      <th>...</th>\n",
              "      <td>...</td>\n",
              "      <td>...</td>\n",
              "    </tr>\n",
              "    <tr>\n",
              "      <th>1307</th>\n",
              "      <td>Patent Law</td>\n",
              "      <td>1</td>\n",
              "    </tr>\n",
              "    <tr>\n",
              "      <th>1308</th>\n",
              "      <td>Hainan</td>\n",
              "      <td>1</td>\n",
              "    </tr>\n",
              "    <tr>\n",
              "      <th>1309</th>\n",
              "      <td>Housing Cooperatives</td>\n",
              "      <td>1</td>\n",
              "    </tr>\n",
              "    <tr>\n",
              "      <th>1310</th>\n",
              "      <td>Guamanian</td>\n",
              "      <td>1</td>\n",
              "    </tr>\n",
              "    <tr>\n",
              "      <th>1311</th>\n",
              "      <td>Trade Fairs</td>\n",
              "      <td>1</td>\n",
              "    </tr>\n",
              "  </tbody>\n",
              "</table>\n",
              "<p>1312 rows × 2 columns</p>\n",
              "</div>"
            ],
            "text/plain": [
              "                Categories  Count\n",
              "0              Restaurants  52268\n",
              "1                     Food  27781\n",
              "2                 Shopping  24395\n",
              "3            Home Services  14356\n",
              "4            Beauty & Spas  14292\n",
              "...                    ...    ...\n",
              "1307            Patent Law      1\n",
              "1308                Hainan      1\n",
              "1309  Housing Cooperatives      1\n",
              "1310             Guamanian      1\n",
              "1311           Trade Fairs      1\n",
              "\n",
              "[1312 rows x 2 columns]"
            ]
          },
          "execution_count": 17,
          "metadata": {},
          "output_type": "execute_result"
        }
      ],
      "source": [
        "business_overall = business.assign(categories = business.categories.str.split(', ')).explode('categories')\n",
        "cat = business_overall.categories.value_counts()\n",
        "cat = cat.to_frame().reset_index()\n",
        "cat.columns = ['Categories', 'Count']\n",
        "cat"
      ]
    },
    {
      "cell_type": "code",
      "execution_count": 18,
      "metadata": {
        "id": "trIJM1oFR6jp"
      },
      "outputs": [],
      "source": [
        "cat= cat.sort_values(by = 'Count', ascending = False)"
      ]
    },
    {
      "cell_type": "code",
      "execution_count": 19,
      "metadata": {
        "colab": {
          "base_uri": "https://localhost:8080/",
          "height": 325
        },
        "id": "KFMvJfZbR6jp",
        "outputId": "d7c1028f-e1c7-4224-d857-a35e84c9d805"
      },
      "outputs": [
        {
          "data": {
            "image/png": "[encoded data removed]",
            "text/plain": [
              "<Figure size 2000x500 with 1 Axes>"
            ]
          },
          "metadata": {},
          "output_type": "display_data"
        }
      ],
      "source": [
        "cat = cat[0:10]\n",
        "objects = list(cat.Categories)\n",
        "y_pos = np.arange(len(objects))\n",
        "Numbers = list(cat.Count)\n",
        "\n",
        "fig = plt.figure(figsize=(20,5))\n",
        "ax = fig.add_subplot(111)\n",
        "plt.bar(y_pos, Numbers, align='center', alpha=1)\n",
        "plt.xticks(y_pos, objects)\n",
        "plt.ylabel('Number of Occurences')\n",
        "plt.title('Top 10 Categories in Yelp dataset')\n",
        "plt.show()"
      ]
    },
    {
      "cell_type": "code",
      "execution_count": 20,
      "metadata": {
        "id": "ICAn5luOR6jq"
      },
      "outputs": [],
      "source": [
        "# categories = business.categories\n",
        "# for i in categories:\n",
        "#     if 'Restaurants' in i or 'Food' in i:\n",
        "#         print(i)"
      ]
    },
    {
      "cell_type": "code",
      "execution_count": 21,
      "metadata": {
        "id": "iH2zCFUuR6jq"
      },
      "outputs": [],
      "source": [
        "# Create a boolean mask to filter rows that contain 'Restaurants' or 'Food' in the categories\n",
        "mask = business['categories'].apply(lambda x: 'Restaurants' in x or 'Food' in x)\n",
        "\n",
        "# Filter the DataFrame using the mask\n",
        "b = business[mask].reset_index(drop=True)\n"
      ]
    },
    {
      "cell_type": "code",
      "execution_count": 22,
      "metadata": {
        "id": "Oi9QwH0GR6jq"
      },
      "outputs": [],
      "source": [
        "bus = b"
      ]
    },
    {
      "cell_type": "code",
      "execution_count": 23,
      "metadata": {
        "colab": {
          "base_uri": "https://localhost:8080/"
        },
        "id": "ZUtRpHKKR6jq",
        "outputId": "63ebcc11-c3d4-4d69-9bf1-ed6809e45bac"
      },
      "outputs": [
        {
          "data": {
            "text/plain": [
              "{'BusinessAcceptsCreditCards': 'True',\n",
              " 'WheelchairAccessible': 'True',\n",
              " 'RestaurantsTakeOut': 'True',\n",
              " 'BusinessParking': \"{'garage': None, 'street': None, 'validated': None, 'lot': True, 'valet': False}\",\n",
              " 'BikeParking': 'True',\n",
              " 'GoodForKids': 'True',\n",
              " 'Caters': 'False'}"
            ]
          },
          "execution_count": 23,
          "metadata": {},
          "output_type": "execute_result"
        }
      ],
      "source": [
        "bus['attributes'][1]"
      ]
    },
    {
      "cell_type": "code",
      "execution_count": 24,
      "metadata": {
        "id": "TPzfWNm3R6jq"
      },
      "outputs": [],
      "source": [
        "# business = business.assign(categories = business.categories.str.split(', ')).explode('categories')\n",
        "# count = business.categories.value_counts().tolist()\n",
        "# res_cat = business.categories.tolist()\n",
        "# res_cat = list(set(res_cat))"
      ]
    },
    {
      "cell_type": "code",
      "execution_count": 25,
      "metadata": {
        "id": "OqAhs8q6R6jq"
      },
      "outputs": [],
      "source": [
        "# count = business.categories.value_counts().tolist()\n",
        "# categories_list = business.categories.str.split().tolist()\n",
        "# categories_list"
      ]
    },
    {
      "cell_type": "code",
      "execution_count": null,
      "metadata": {
        "id": "yrRXCwWsR6jq"
      },
      "outputs": [],
      "source": []
    },
    {
      "cell_type": "code",
      "execution_count": 26,
      "metadata": {
        "id": "EimrfULcR6jq"
      },
      "outputs": [],
      "source": [
        "# business = business[business.categories.str.contains('Restaurants|Food|Nightlife|Bars', case=True,na=False)]\n",
        "# business"
      ]
    },
    {
      "cell_type": "code",
      "execution_count": 27,
      "metadata": {
        "id": "LW7RTFz4R6jq"
      },
      "outputs": [],
      "source": [
        "# business = business.assign(categories = business.categories.str.split(', ')).explode('categories')\n",
        "# business = business[business.categories.str.contains('Restaurants', case=True,na=False)]\n",
        "# business"
      ]
    },
    {
      "cell_type": "code",
      "execution_count": 28,
      "metadata": {
        "id": "xa9trv2PR6jr"
      },
      "outputs": [],
      "source": [
        "# Taking into the consideration the businesses which are open\n",
        "# 1 = open, 0 = closed\n",
        "bus = bus[bus['is_open']==1]"
      ]
    },
    {
      "cell_type": "code",
      "execution_count": 29,
      "metadata": {
        "id": "WDxZoZGcR6jr"
      },
      "outputs": [],
      "source": [
        "# taking into consideration US states only\n",
        "\n",
        "states = pd.Series([\"AL\", \"AK\", \"AZ\", \"AR\", \"CA\", \"CO\", \"CT\", \"DC\", \"DE\", \"FL\", \"GA\",\n",
        "          \"HI\", \"ID\", \"IL\", \"IN\", \"IA\", \"KS\", \"KY\", \"LA\", \"ME\", \"MD\",\n",
        "          \"MA\", \"MI\", \"MN\", \"MS\", \"MO\", \"MT\", \"NE\", \"NV\", \"NH\", \"NJ\",\n",
        "          \"NM\", \"NY\", \"NC\", \"ND\", \"OH\", \"OK\", \"OR\", \"PA\", \"RI\", \"SC\",\n",
        "          \"SD\", \"TN\", \"TX\", \"UT\", \"VT\", \"VA\", \"WA\", \"WV\", \"WI\", \"WY\"])"
      ]
    },
    {
      "cell_type": "code",
      "execution_count": 30,
      "metadata": {
        "id": "GW5A-oYnR6jr"
      },
      "outputs": [],
      "source": [
        "avg_stars = pd.pivot_table(bus[bus['state'].isin(states)] , index = ['state'],\n",
        "                    values = ['stars'], aggfunc = np.mean)\n",
        "\n",
        "avg_stars=avg_stars.sort_values('stars',ascending=False)"
      ]
    },
    {
      "cell_type": "code",
      "execution_count": 31,
      "metadata": {
        "colab": {
          "base_uri": "https://localhost:8080/",
          "height": 593
        },
        "id": "qFKHgHyrR6jr",
        "outputId": "7ddf5caf-4c16-416a-ce3d-b655d62e1275"
      },
      "outputs": [
        {
          "data": {
            "image/png": "[encoded data removed]",
            "text/plain": [
              "<Figure size 2000x1000 with 1 Axes>"
            ]
          },
          "metadata": {},
          "output_type": "display_data"
        }
      ],
      "source": [
        "fig = plt.figure(figsize=(20,10))\n",
        "ax = fig.add_subplot(111)\n",
        "a = sns.barplot(x=avg_stars.index, y=\"stars\", data=avg_stars)"
      ]
    },
    {
      "cell_type": "code",
      "execution_count": 32,
      "metadata": {
        "id": "N1wU1zXxR6jr"
      },
      "outputs": [],
      "source": [
        "state_count = bus.state.value_counts()"
      ]
    },
    {
      "cell_type": "code",
      "execution_count": 33,
      "metadata": {
        "id": "By1jVxczR6jr"
      },
      "outputs": [],
      "source": [
        "state_count = state_count.to_frame().reset_index()\n",
        "state_count.columns = ['State', 'Counts']"
      ]
    },
    {
      "cell_type": "code",
      "execution_count": 34,
      "metadata": {
        "colab": {
          "base_uri": "https://localhost:8080/",
          "height": 588
        },
        "id": "NOgBat50R6js",
        "outputId": "46aac3f8-b1b5-48b8-9063-2150a8b82346"
      },
      "outputs": [
        {
          "data": {
            "image/png": "[encoded data removed]",
            "text/plain": [
              "<Figure size 2000x1000 with 1 Axes>"
            ]
          },
          "metadata": {},
          "output_type": "display_data"
        }
      ],
      "source": [
        "objects = list(state_count.State)\n",
        "y_pos = np.arange(len(objects))\n",
        "Numbers = list(state_count.Counts)\n",
        "\n",
        "fig = plt.figure(figsize=(20,10))\n",
        "ax = fig.add_subplot(111)\n",
        "plt.bar(y_pos, Numbers, align='center', alpha=1)\n",
        "plt.xticks(y_pos, objects)\n",
        "plt.ylabel('Number of Occurences')\n",
        "plt.title('Distribution of State in Yelp dataset')\n",
        "plt.show()\n",
        "\n"
      ]
    },
    {
      "cell_type": "code",
      "execution_count": 35,
      "metadata": {
        "id": "IBwUsuA6R6js"
      },
      "outputs": [],
      "source": [
        "business_in_IL = bus[bus.state == 'IL']"
      ]
    },
    {
      "cell_type": "code",
      "execution_count": 36,
      "metadata": {
        "id": "yIQ2H00AR6js"
      },
      "outputs": [],
      "source": [
        "business_in_IL = business_in_IL.reset_index(drop = True)"
      ]
    },
    {
      "cell_type": "code",
      "execution_count": 37,
      "metadata": {
        "colab": {
          "base_uri": "https://localhost:8080/",
          "height": 1000
        },
        "id": "kNJS1NJLR6jw",
        "outputId": "23744ba1-dd26-4aef-b4c3-cf6edf351a7a"
      },
      "outputs": [
        {
          "data": {
            "text/html": [
              "<div>\n",
              "<style scoped>\n",
              "    .dataframe tbody tr th:only-of-type {\n",
              "        vertical-align: middle;\n",
              "    }\n",
              "\n",
              "    .dataframe tbody tr th {\n",
              "        vertical-align: top;\n",
              "    }\n",
              "\n",
              "    .dataframe thead th {\n",
              "        text-align: right;\n",
              "    }\n",
              "</style>\n",
              "<table border=\"1\" class=\"dataframe\">\n",
              "  <thead>\n",
              "    <tr style=\"text-align: right;\">\n",
              "      <th></th>\n",
              "      <th>business_id</th>\n",
              "      <th>name</th>\n",
              "      <th>address</th>\n",
              "      <th>city</th>\n",
              "      <th>state</th>\n",
              "      <th>postal_code</th>\n",
              "      <th>latitude</th>\n",
              "      <th>longitude</th>\n",
              "      <th>stars</th>\n",
              "      <th>review_count</th>\n",
              "      <th>is_open</th>\n",
              "      <th>attributes</th>\n",
              "      <th>categories</th>\n",
              "      <th>hours</th>\n",
              "    </tr>\n",
              "  </thead>\n",
              "  <tbody>\n",
              "    <tr>\n",
              "      <th>0</th>\n",
              "      <td>ljxNT9p0y7YMPx0fcNBGig</td>\n",
              "      <td>Tony's Restaurant &amp; 3rd Street Cafe</td>\n",
              "      <td>312 Piasa St</td>\n",
              "      <td>Alton</td>\n",
              "      <td>IL</td>\n",
              "      <td>62002</td>\n",
              "      <td>38.896563</td>\n",
              "      <td>-90.186203</td>\n",
              "      <td>3.0</td>\n",
              "      <td>94</td>\n",
              "      <td>1</td>\n",
              "      <td>{'RestaurantsReservations': 'True', 'Restauran...</td>\n",
              "      <td>Restaurants, Specialty Food, Steakhouses, Food...</td>\n",
              "      <td>{'Monday': '0:0-0:0', 'Tuesday': '16:0-21:30',...</td>\n",
              "    </tr>\n",
              "    <tr>\n",
              "      <th>1</th>\n",
              "      <td>EuRGgOwJ0g1vTj2R04j37Q</td>\n",
              "      <td>Crafty Crab</td>\n",
              "      <td>51 Ludwig Dr</td>\n",
              "      <td>Fairview Heights</td>\n",
              "      <td>IL</td>\n",
              "      <td>62208</td>\n",
              "      <td>38.601298</td>\n",
              "      <td>-89.989683</td>\n",
              "      <td>2.5</td>\n",
              "      <td>14</td>\n",
              "      <td>1</td>\n",
              "      <td>{'BusinessParking': '{u'valet': False, u'garag...</td>\n",
              "      <td>Seafood, Restaurants</td>\n",
              "      <td>{'Monday': '12:0-22:0', 'Tuesday': '12:0-22:0'...</td>\n",
              "    </tr>\n",
              "    <tr>\n",
              "      <th>2</th>\n",
              "      <td>zjQDk4tZyhEroyqtkgvx0g</td>\n",
              "      <td>The Cobblestone Eatery and Drinkery</td>\n",
              "      <td>115 W St Louis St</td>\n",
              "      <td>Lebanon</td>\n",
              "      <td>IL</td>\n",
              "      <td>62254</td>\n",
              "      <td>38.604107</td>\n",
              "      <td>-89.808533</td>\n",
              "      <td>3.5</td>\n",
              "      <td>52</td>\n",
              "      <td>1</td>\n",
              "      <td>{'RestaurantsDelivery': 'False', 'BestNights':...</td>\n",
              "      <td>American (Traditional), Nightlife, Breakfast &amp;...</td>\n",
              "      <td>{'Monday': '11:0-2:0', 'Tuesday': '11:0-2:0', ...</td>\n",
              "    </tr>\n",
              "    <tr>\n",
              "      <th>3</th>\n",
              "      <td>gI34hM-873fwF1XQ8hOaSg</td>\n",
              "      <td>Joe’s Pizza and Pasta</td>\n",
              "      <td>5775 Godfrey Rd, Ste A</td>\n",
              "      <td>Godfrey</td>\n",
              "      <td>IL</td>\n",
              "      <td>62035</td>\n",
              "      <td>38.949183</td>\n",
              "      <td>-90.190306</td>\n",
              "      <td>4.0</td>\n",
              "      <td>17</td>\n",
              "      <td>1</td>\n",
              "      <td>{'HasTV': 'True', 'RestaurantsTableService': '...</td>\n",
              "      <td>Salad, Pizza, Restaurants, Italian</td>\n",
              "      <td>{'Tuesday': '11:0-21:0', 'Wednesday': '11:0-21...</td>\n",
              "    </tr>\n",
              "    <tr>\n",
              "      <th>4</th>\n",
              "      <td>FzelkV3vzxkRgBmVSIqALA</td>\n",
              "      <td>Edley’s</td>\n",
              "      <td>2392 S State Rt 157</td>\n",
              "      <td>Glen Carbon</td>\n",
              "      <td>IL</td>\n",
              "      <td>62034</td>\n",
              "      <td>38.773325</td>\n",
              "      <td>-89.992930</td>\n",
              "      <td>3.0</td>\n",
              "      <td>34</td>\n",
              "      <td>1</td>\n",
              "      <td>{'OutdoorSeating': 'True', 'HasTV': 'True', 'R...</td>\n",
              "      <td>Barbeque, Restaurants</td>\n",
              "      <td>{'Monday': '11:0-21:0', 'Tuesday': '11:0-21:0'...</td>\n",
              "    </tr>\n",
              "    <tr>\n",
              "      <th>...</th>\n",
              "      <td>...</td>\n",
              "      <td>...</td>\n",
              "      <td>...</td>\n",
              "      <td>...</td>\n",
              "      <td>...</td>\n",
              "      <td>...</td>\n",
              "      <td>...</td>\n",
              "      <td>...</td>\n",
              "      <td>...</td>\n",
              "      <td>...</td>\n",
              "      <td>...</td>\n",
              "      <td>...</td>\n",
              "      <td>...</td>\n",
              "      <td>...</td>\n",
              "    </tr>\n",
              "    <tr>\n",
              "      <th>870</th>\n",
              "      <td>jhTvowxVAMCnAsObNta8kw</td>\n",
              "      <td>LuciAnna's Pastries</td>\n",
              "      <td>607 E Broadway</td>\n",
              "      <td>Alton</td>\n",
              "      <td>IL</td>\n",
              "      <td>62002</td>\n",
              "      <td>38.889527</td>\n",
              "      <td>-90.176815</td>\n",
              "      <td>4.5</td>\n",
              "      <td>34</td>\n",
              "      <td>1</td>\n",
              "      <td>{'BikeParking': 'True', 'BusinessParking': '{'...</td>\n",
              "      <td>Restaurants, Food, Bakeries, Patisserie/Cake Shop</td>\n",
              "      <td>{'Tuesday': '6:30-15:0', 'Wednesday': '6:30-15...</td>\n",
              "    </tr>\n",
              "    <tr>\n",
              "      <th>871</th>\n",
              "      <td>H9I0agL8A8r1eBh6p66o_Q</td>\n",
              "      <td>Pizza Hut</td>\n",
              "      <td>5913 N Illinois St</td>\n",
              "      <td>Fairview Heights</td>\n",
              "      <td>IL</td>\n",
              "      <td>62208</td>\n",
              "      <td>38.586224</td>\n",
              "      <td>-89.985703</td>\n",
              "      <td>2.5</td>\n",
              "      <td>8</td>\n",
              "      <td>1</td>\n",
              "      <td>{'RestaurantsTakeOut': 'True', 'RestaurantsRes...</td>\n",
              "      <td>Pizza, Restaurants, Fast Food, Italian, Chicke...</td>\n",
              "      <td>{'Monday': '10:30-22:0', 'Tuesday': '10:30-22:...</td>\n",
              "    </tr>\n",
              "    <tr>\n",
              "      <th>872</th>\n",
              "      <td>cdbEEL_0TLOPgdfsB3PUvA</td>\n",
              "      <td>Subway</td>\n",
              "      <td>413 Belt Line Rd</td>\n",
              "      <td>Collinsville</td>\n",
              "      <td>IL</td>\n",
              "      <td>62234</td>\n",
              "      <td>38.691322</td>\n",
              "      <td>-89.974966</td>\n",
              "      <td>2.5</td>\n",
              "      <td>9</td>\n",
              "      <td>1</td>\n",
              "      <td>{'BikeParking': 'True', 'NoiseLevel': 'u'avera...</td>\n",
              "      <td>Restaurants, Sandwiches, Fast Food</td>\n",
              "      <td>{'Monday': '10:30-19:30', 'Tuesday': '10:30-19...</td>\n",
              "    </tr>\n",
              "    <tr>\n",
              "      <th>873</th>\n",
              "      <td>eQ83iTisgPFzJ1YBO3p-IA</td>\n",
              "      <td>Domino's Pizza</td>\n",
              "      <td>4000 W Main St</td>\n",
              "      <td>Belleville</td>\n",
              "      <td>IL</td>\n",
              "      <td>62226</td>\n",
              "      <td>38.536365</td>\n",
              "      <td>-90.019293</td>\n",
              "      <td>2.0</td>\n",
              "      <td>22</td>\n",
              "      <td>1</td>\n",
              "      <td>{'RestaurantsGoodForGroups': 'False', 'GoodFor...</td>\n",
              "      <td>Chicken Wings, Pizza, Sandwiches, Restaurants</td>\n",
              "      <td>{'Monday': '10:0-1:0', 'Tuesday': '10:0-1:0', ...</td>\n",
              "    </tr>\n",
              "    <tr>\n",
              "      <th>874</th>\n",
              "      <td>yKgxtgSBkDeuBsfjQVV-jA</td>\n",
              "      <td>Chinese Dragon</td>\n",
              "      <td>510 S Main St</td>\n",
              "      <td>Smithton</td>\n",
              "      <td>IL</td>\n",
              "      <td>62285</td>\n",
              "      <td>38.404248</td>\n",
              "      <td>-89.991511</td>\n",
              "      <td>4.5</td>\n",
              "      <td>5</td>\n",
              "      <td>1</td>\n",
              "      <td>{'RestaurantsPriceRange2': '1', 'RestaurantsTa...</td>\n",
              "      <td>Chinese, Restaurants</td>\n",
              "      <td>{'Monday': '0:0-0:0', 'Tuesday': '10:30-21:0',...</td>\n",
              "    </tr>\n",
              "  </tbody>\n",
              "</table>\n",
              "<p>875 rows × 14 columns</p>\n",
              "</div>"
            ],
            "text/plain": [
              "                business_id                                 name  \\\n",
              "0    ljxNT9p0y7YMPx0fcNBGig  Tony's Restaurant & 3rd Street Cafe   \n",
              "1    EuRGgOwJ0g1vTj2R04j37Q                          Crafty Crab   \n",
              "2    zjQDk4tZyhEroyqtkgvx0g  The Cobblestone Eatery and Drinkery   \n",
              "3    gI34hM-873fwF1XQ8hOaSg                Joe’s Pizza and Pasta   \n",
              "4    FzelkV3vzxkRgBmVSIqALA                              Edley’s   \n",
              "..                      ...                                  ...   \n",
              "870  jhTvowxVAMCnAsObNta8kw                  LuciAnna's Pastries   \n",
              "871  H9I0agL8A8r1eBh6p66o_Q                            Pizza Hut   \n",
              "872  cdbEEL_0TLOPgdfsB3PUvA                               Subway   \n",
              "873  eQ83iTisgPFzJ1YBO3p-IA                       Domino's Pizza   \n",
              "874  yKgxtgSBkDeuBsfjQVV-jA                       Chinese Dragon   \n",
              "\n",
              "                    address              city state postal_code   latitude  \\\n",
              "0              312 Piasa St             Alton    IL       62002  38.896563   \n",
              "1              51 Ludwig Dr  Fairview Heights    IL       62208  38.601298   \n",
              "2         115 W St Louis St           Lebanon    IL       62254  38.604107   \n",
              "3    5775 Godfrey Rd, Ste A           Godfrey    IL       62035  38.949183   \n",
              "4       2392 S State Rt 157       Glen Carbon    IL       62034  38.773325   \n",
              "..                      ...               ...   ...         ...        ...   \n",
              "870          607 E Broadway             Alton    IL       62002  38.889527   \n",
              "871      5913 N Illinois St  Fairview Heights    IL       62208  38.586224   \n",
              "872        413 Belt Line Rd      Collinsville    IL       62234  38.691322   \n",
              "873          4000 W Main St        Belleville    IL       62226  38.536365   \n",
              "874           510 S Main St          Smithton    IL       62285  38.404248   \n",
              "\n",
              "     longitude  stars  review_count  is_open  \\\n",
              "0   -90.186203    3.0            94        1   \n",
              "1   -89.989683    2.5            14        1   \n",
              "2   -89.808533    3.5            52        1   \n",
              "3   -90.190306    4.0            17        1   \n",
              "4   -89.992930    3.0            34        1   \n",
              "..         ...    ...           ...      ...   \n",
              "870 -90.176815    4.5            34        1   \n",
              "871 -89.985703    2.5             8        1   \n",
              "872 -89.974966    2.5             9        1   \n",
              "873 -90.019293    2.0            22        1   \n",
              "874 -89.991511    4.5             5        1   \n",
              "\n",
              "                                            attributes  \\\n",
              "0    {'RestaurantsReservations': 'True', 'Restauran...   \n",
              "1    {'BusinessParking': '{u'valet': False, u'garag...   \n",
              "2    {'RestaurantsDelivery': 'False', 'BestNights':...   \n",
              "3    {'HasTV': 'True', 'RestaurantsTableService': '...   \n",
              "4    {'OutdoorSeating': 'True', 'HasTV': 'True', 'R...   \n",
              "..                                                 ...   \n",
              "870  {'BikeParking': 'True', 'BusinessParking': '{'...   \n",
              "871  {'RestaurantsTakeOut': 'True', 'RestaurantsRes...   \n",
              "872  {'BikeParking': 'True', 'NoiseLevel': 'u'avera...   \n",
              "873  {'RestaurantsGoodForGroups': 'False', 'GoodFor...   \n",
              "874  {'RestaurantsPriceRange2': '1', 'RestaurantsTa...   \n",
              "\n",
              "                                            categories  \\\n",
              "0    Restaurants, Specialty Food, Steakhouses, Food...   \n",
              "1                                 Seafood, Restaurants   \n",
              "2    American (Traditional), Nightlife, Breakfast &...   \n",
              "3                   Salad, Pizza, Restaurants, Italian   \n",
              "4                                Barbeque, Restaurants   \n",
              "..                                                 ...   \n",
              "870  Restaurants, Food, Bakeries, Patisserie/Cake Shop   \n",
              "871  Pizza, Restaurants, Fast Food, Italian, Chicke...   \n",
              "872                 Restaurants, Sandwiches, Fast Food   \n",
              "873      Chicken Wings, Pizza, Sandwiches, Restaurants   \n",
              "874                               Chinese, Restaurants   \n",
              "\n",
              "                                                 hours  \n",
              "0    {'Monday': '0:0-0:0', 'Tuesday': '16:0-21:30',...  \n",
              "1    {'Monday': '12:0-22:0', 'Tuesday': '12:0-22:0'...  \n",
              "2    {'Monday': '11:0-2:0', 'Tuesday': '11:0-2:0', ...  \n",
              "3    {'Tuesday': '11:0-21:0', 'Wednesday': '11:0-21...  \n",
              "4    {'Monday': '11:0-21:0', 'Tuesday': '11:0-21:0'...  \n",
              "..                                                 ...  \n",
              "870  {'Tuesday': '6:30-15:0', 'Wednesday': '6:30-15...  \n",
              "871  {'Monday': '10:30-22:0', 'Tuesday': '10:30-22:...  \n",
              "872  {'Monday': '10:30-19:30', 'Tuesday': '10:30-19...  \n",
              "873  {'Monday': '10:0-1:0', 'Tuesday': '10:0-1:0', ...  \n",
              "874  {'Monday': '0:0-0:0', 'Tuesday': '10:30-21:0',...  \n",
              "\n",
              "[875 rows x 14 columns]"
            ]
          },
          "execution_count": 37,
          "metadata": {},
          "output_type": "execute_result"
        }
      ],
      "source": [
        "business_in_IL"
      ]
    },
    {
      "cell_type": "code",
      "execution_count": 38,
      "metadata": {
        "colab": {
          "base_uri": "https://localhost:8080/"
        },
        "id": "VC1Y3MKHR6jw",
        "outputId": "0d166777-c56c-46d5-aee9-20def77d9398",
        "scrolled": true
      },
      "outputs": [
        {
          "data": {
            "text/plain": [
              "dict"
            ]
          },
          "execution_count": 38,
          "metadata": {},
          "output_type": "execute_result"
        }
      ],
      "source": [
        "type(business_in_IL.attributes[1])"
      ]
    },
    {
      "cell_type": "code",
      "execution_count": 39,
      "metadata": {
        "id": "vJ1jK7cwR6jx"
      },
      "outputs": [],
      "source": [
        "def get_superset_of_column_names_from_file(data):\n",
        "    column_names = set()\n",
        "\n",
        "    for line_contents in data:\n",
        "        column_names.update(\n",
        "                set(get_column_names(line_contents))\n",
        "                )\n",
        "    return column_names\n",
        "\n",
        "def get_column_names(line_contents):\n",
        "    \"\"\"Return a list of flattened key names given a dict.\n",
        "    Example:\n",
        "        line_contents = {\n",
        "            'a': {\n",
        "                'b': 2,\n",
        "                'c': 3,\n",
        "                },\n",
        "        }\n",
        "        will return: ['a.b', 'a.c']\n",
        "    These will be the column names for the eventual csv file.\n",
        "    \"\"\"\n",
        "    column_names = []\n",
        "    if line_contents is None:\n",
        "        return ''\n",
        "    for k in line_contents.keys():\n",
        "        column_names.append('{0}'.format(k)\n",
        "        )\n",
        "\n",
        "    return column_names"
      ]
    },
    {
      "cell_type": "code",
      "execution_count": null,
      "metadata": {
        "id": "zGvhk4ggR6jx"
      },
      "outputs": [],
      "source": []
    },
    {
      "cell_type": "code",
      "execution_count": 40,
      "metadata": {
        "id": "iGGZjZCER6jx"
      },
      "outputs": [],
      "source": [
        "superset_cols = get_superset_of_column_names_from_file(business_in_IL.attributes)\n",
        "\n",
        "# put all those columns in the dataset and initilize them to nan\n",
        "for col in superset_cols:\n",
        "    business_in_IL[col]= np.nan"
      ]
    },
    {
      "cell_type": "code",
      "execution_count": 41,
      "metadata": {
        "id": "Jhj3y6ptR6jx"
      },
      "outputs": [],
      "source": [
        "idx = 0\n",
        "for attr in business_in_IL.attributes:\n",
        "    if attr is None:\n",
        "        idx+=1\n",
        "        continue\n",
        "    for k,v in attr.items():\n",
        "        if'{' in v:\n",
        "            continue\n",
        "        business_in_IL[k][idx] = v\n",
        "    idx+=1"
      ]
    },
    {
      "cell_type": "code",
      "execution_count": 42,
      "metadata": {
        "colab": {
          "base_uri": "https://localhost:8080/"
        },
        "id": "tCICDqAuR6jy",
        "outputId": "3e366210-b81d-4c20-bf7f-49baac66e911"
      },
      "outputs": [
        {
          "name": "stdout",
          "output_type": "stream",
          "text": [
            "Null values:                                0\n",
            "business_id                   0\n",
            "name                          0\n",
            "address                       0\n",
            "city                          0\n",
            "state                         0\n",
            "postal_code                   0\n",
            "latitude                      0\n",
            "longitude                     0\n",
            "stars                         0\n",
            "review_count                  0\n",
            "is_open                       0\n",
            "attributes                   11\n",
            "categories                    0\n",
            "hours                       108\n",
            "GoodForKids                 303\n",
            "Alcohol                     366\n",
            "RestaurantsGoodForGroups    297\n",
            "BikeParking                 282\n",
            "Ambience                    856\n",
            "BestNights                  875\n",
            "GoodForDancing              839\n",
            "OutdoorSeating              263\n",
            "Music                       875\n",
            "Open24Hours                 874\n",
            "NoiseLevel                  444\n",
            "RestaurantsAttire           351\n",
            "GoodForMeal                 867\n",
            "Caters                      362\n",
            "HappyHour                   741\n",
            "BYOBCorkage                 870\n",
            "CoatCheck                   802\n",
            "ByAppointmentOnly           810\n",
            "WheelchairAccessible        687\n",
            "RestaurantsTakeOut           84\n",
            "WiFi                        345\n",
            "BYOB                        821\n",
            "DriveThru                   692\n",
            "Corkage                     848\n",
            "HasTV                       303\n",
            "RestaurantsTableService     638\n",
            "DogsAllowed                 745\n",
            "RestaurantsPriceRange2      135\n",
            "BusinessAcceptsCreditCards   90\n",
            "BusinessParking             853\n",
            "DietaryRestrictions         875\n",
            "BusinessAcceptsBitcoin      803\n",
            "Smoking                     830\n",
            "RestaurantsCounterService   874\n",
            "RestaurantsReservations     264\n",
            "RestaurantsDelivery         131\n",
            "n\n",
            "\n",
            "\n",
            "Shape of original data (875, 50)\n"
          ]
        }
      ],
      "source": [
        "null_val = pd.DataFrame(business_in_IL.isna().sum())\n",
        "print(\"Null values: \",null_val)\n",
        "print('n')\n",
        "print('\\n')\n",
        "print(\"Shape of original data\", business_in_IL.shape)"
      ]
    },
    {
      "cell_type": "code",
      "execution_count": 43,
      "metadata": {
        "colab": {
          "base_uri": "https://localhost:8080/"
        },
        "id": "gLw28bHyR6jy",
        "outputId": "2443d568-3054-4bf0-bf9f-9181b0af8ffd"
      },
      "outputs": [
        {
          "data": {
            "text/plain": [
              "['GoodForKids',\n",
              " 'Alcohol',\n",
              " 'Ambience',\n",
              " 'BestNights',\n",
              " 'GoodForDancing',\n",
              " 'Music',\n",
              " 'Open24Hours',\n",
              " 'NoiseLevel',\n",
              " 'RestaurantsAttire',\n",
              " 'GoodForMeal',\n",
              " 'Caters',\n",
              " 'HappyHour',\n",
              " 'BYOBCorkage',\n",
              " 'CoatCheck',\n",
              " 'ByAppointmentOnly',\n",
              " 'WheelchairAccessible',\n",
              " 'WiFi',\n",
              " 'BYOB',\n",
              " 'DriveThru',\n",
              " 'Corkage',\n",
              " 'HasTV',\n",
              " 'RestaurantsTableService',\n",
              " 'DogsAllowed',\n",
              " 'BusinessParking',\n",
              " 'DietaryRestrictions',\n",
              " 'BusinessAcceptsBitcoin',\n",
              " 'Smoking',\n",
              " 'RestaurantsCounterService']"
            ]
          },
          "execution_count": 43,
          "metadata": {},
          "output_type": "execute_result"
        }
      ],
      "source": [
        "col_del = list(null_val[null_val.iloc[:,0] >300].index)# columns to keep\n",
        "col_del"
      ]
    },
    {
      "cell_type": "code",
      "execution_count": 44,
      "metadata": {
        "colab": {
          "base_uri": "https://localhost:8080/",
          "height": 773
        },
        "id": "St6el74JR6jy",
        "outputId": "4ce48983-8206-4d63-e947-b44a60b8537d"
      },
      "outputs": [
        {
          "data": {
            "text/plain": [
              "business_id                     0\n",
              "name                            0\n",
              "address                         0\n",
              "city                            0\n",
              "state                           0\n",
              "postal_code                     0\n",
              "latitude                        0\n",
              "longitude                       0\n",
              "stars                           0\n",
              "review_count                    0\n",
              "is_open                         0\n",
              "attributes                     11\n",
              "categories                      0\n",
              "hours                         108\n",
              "RestaurantsGoodForGroups      297\n",
              "BikeParking                   282\n",
              "OutdoorSeating                263\n",
              "RestaurantsTakeOut             84\n",
              "RestaurantsPriceRange2        135\n",
              "BusinessAcceptsCreditCards     90\n",
              "RestaurantsReservations       264\n",
              "RestaurantsDelivery           131\n",
              "dtype: int64"
            ]
          },
          "execution_count": 44,
          "metadata": {},
          "output_type": "execute_result"
        }
      ],
      "source": [
        "business_in_IL.drop(columns=col_del).isna().sum()"
      ]
    },
    {
      "cell_type": "code",
      "execution_count": 45,
      "metadata": {
        "id": "Dwn9PTMJR6jy"
      },
      "outputs": [],
      "source": [
        "business_in_IL = business_in_IL.drop(columns=col_del)"
      ]
    },
    {
      "cell_type": "code",
      "execution_count": 47,
      "metadata": {
        "id": "joDoaEYYR6jz"
      },
      "outputs": [],
      "source": [
        "# test-1\n",
        "category_elements = []\n",
        "for i in business_in_IL.index:\n",
        "    elements = business_in_IL.categories[i].split(',')\n",
        "#     category_elements.update(business_in_IL.categories[i].split(','))\n",
        "    for element in elements:\n",
        "        category_elements.append(element)\n",
        "#         print(element)"
      ]
    },
    {
      "cell_type": "code",
      "execution_count": 48,
      "metadata": {
        "colab": {
          "base_uri": "https://localhost:8080/"
        },
        "id": "WDeVbCHuR6jz",
        "outputId": "76a8ed99-9a5c-4f46-c5bd-fd292a91a9d2"
      },
      "outputs": [
        {
          "data": {
            "text/plain": [
              "['Restaurants',\n",
              " 'Specialty Food',\n",
              " 'Steakhouses',\n",
              " 'Food',\n",
              " 'Italian',\n",
              " 'Pizza',\n",
              " 'Pasta Shops',\n",
              " 'Seafood',\n",
              " 'Restaurants',\n",
              " 'American (Traditional)',\n",
              " 'Nightlife',\n",
              " 'Breakfast & Brunch',\n",
              " 'Event Planning & Services',\n",
              " 'Venues & Event Spaces',\n",
              " 'Italian',\n",
              " 'Bars',\n",
              " 'Restaurants',\n",
              " 'Salad',\n",
              " 'Pizza',\n",
              " 'Restaurants',\n",
              " 'Italian',\n",
              " 'Barbeque',\n",
              " 'Restaurants',\n",
              " 'Restaurants',\n",
              " 'Pizza',\n",
              " 'Comfort Food',\n",
              " 'American (New)',\n",
              " 'American (Traditional)',\n",
              " 'Restaurants',\n",
              " 'Southern',\n",
              " 'Restaurants',\n",
              " 'Diners',\n",
              " 'Restaurants',\n",
              " 'Fast Food',\n",
              " 'Burgers',\n",
              " 'Fast Food',\n",
              " 'Restaurants',\n",
              " 'Breakfast & Brunch',\n",
              " 'Vegetarian',\n",
              " 'Mexican',\n",
              " 'Tacos',\n",
              " 'Fast Food',\n",
              " 'Greek',\n",
              " 'Italian',\n",
              " 'Restaurants',\n",
              " 'Restaurants',\n",
              " 'Coffee & Tea',\n",
              " 'Food',\n",
              " 'Burgers',\n",
              " 'Fast Food',\n",
              " 'Steakhouses',\n",
              " 'Salad',\n",
              " 'Restaurants',\n",
              " 'Seafood',\n",
              " 'Mexican',\n",
              " 'Restaurants',\n",
              " 'Salad',\n",
              " 'Soup',\n",
              " 'Chinese',\n",
              " 'Restaurants',\n",
              " 'Restaurants',\n",
              " 'Fast Food',\n",
              " 'Tex-Mex',\n",
              " 'Tacos',\n",
              " 'Mexican',\n",
              " 'Mexican',\n",
              " 'Restaurants',\n",
              " 'Restaurants',\n",
              " 'Southern',\n",
              " 'Food Trucks',\n",
              " 'Food',\n",
              " 'Breakfast & Brunch',\n",
              " 'Desserts',\n",
              " 'Buffets',\n",
              " 'American (Traditional)',\n",
              " 'Restaurants',\n",
              " 'Health & Medical',\n",
              " 'Pizza',\n",
              " 'Restaurants',\n",
              " 'Chiropractors',\n",
              " 'Restaurants',\n",
              " 'American (New)',\n",
              " 'Drugstores',\n",
              " 'Food',\n",
              " 'Florists',\n",
              " 'Bakeries',\n",
              " 'Flowers & Gifts',\n",
              " 'Shopping',\n",
              " 'Grocery',\n",
              " 'Restaurants',\n",
              " 'Tex-Mex',\n",
              " 'Fast Food',\n",
              " 'Mexican',\n",
              " 'Tacos',\n",
              " 'Breakfast & Brunch',\n",
              " 'Event Planning & Services',\n",
              " 'Food Delivery Services',\n",
              " 'Caterers',\n",
              " 'Restaurants',\n",
              " 'Food',\n",
              " 'Thai',\n",
              " 'Restaurants',\n",
              " 'Automotive',\n",
              " 'Gas Stations',\n",
              " 'Food',\n",
              " 'Convenience Stores',\n",
              " 'Restaurants',\n",
              " 'Sandwiches',\n",
              " 'Fast Food',\n",
              " 'Food',\n",
              " 'Cupcakes',\n",
              " 'Bakeries',\n",
              " 'Patisserie/Cake Shop',\n",
              " 'Desserts',\n",
              " 'Donuts',\n",
              " 'Restaurants',\n",
              " 'Sandwiches',\n",
              " 'Fast Food',\n",
              " 'Food',\n",
              " 'Food Delivery Services',\n",
              " 'Fast Food',\n",
              " 'Delis',\n",
              " 'Sandwiches',\n",
              " 'Restaurants',\n",
              " 'Seafood',\n",
              " 'American (Traditional)',\n",
              " 'Restaurants',\n",
              " 'Nightlife',\n",
              " 'Sports Bars',\n",
              " 'Beer Bar',\n",
              " 'Bars',\n",
              " 'Restaurants',\n",
              " 'American (Traditional)',\n",
              " 'Fast Food',\n",
              " 'Caterers',\n",
              " 'Restaurants',\n",
              " 'Event Planning & Services',\n",
              " 'Mexican',\n",
              " 'Donuts',\n",
              " 'Restaurants',\n",
              " 'Food',\n",
              " 'Bakeries',\n",
              " 'Mexican',\n",
              " 'Tacos',\n",
              " 'Tex-Mex',\n",
              " 'Fast Food',\n",
              " 'Breakfast & Brunch',\n",
              " 'Restaurants',\n",
              " 'American (Traditional)',\n",
              " 'Restaurants',\n",
              " 'Bars',\n",
              " 'Sports Bars',\n",
              " 'Nightlife',\n",
              " 'Burgers',\n",
              " 'Salad',\n",
              " 'Restaurants',\n",
              " 'Nightlife',\n",
              " 'Bars',\n",
              " 'Wine Bars',\n",
              " 'Italian',\n",
              " 'Soup',\n",
              " 'American (Traditional)',\n",
              " 'Fast Food',\n",
              " 'Restaurants',\n",
              " 'Fish & Chips',\n",
              " 'Seafood',\n",
              " 'Burgers',\n",
              " 'Coffee & Tea',\n",
              " 'Fast Food',\n",
              " 'Restaurants',\n",
              " 'Food',\n",
              " 'Convenience Stores',\n",
              " 'Gas Stations',\n",
              " 'Automotive',\n",
              " 'Food',\n",
              " 'Motorcycle Dealers',\n",
              " 'Restaurants',\n",
              " 'Fast Food',\n",
              " 'Southern',\n",
              " 'Barbeque',\n",
              " 'Restaurants',\n",
              " 'Specialty Food',\n",
              " 'Olive Oil',\n",
              " 'Food',\n",
              " 'Pizza',\n",
              " 'Restaurants',\n",
              " 'Ice Cream & Frozen Yogurt',\n",
              " 'Food',\n",
              " 'Restaurants',\n",
              " 'Bars',\n",
              " 'Pubs',\n",
              " 'Burgers',\n",
              " 'American (Traditional)',\n",
              " 'Nightlife',\n",
              " 'Beer',\n",
              " 'Wine & Spirits',\n",
              " 'Bars',\n",
              " 'Wineries',\n",
              " 'Food',\n",
              " 'Nightlife',\n",
              " 'Arts & Entertainment',\n",
              " 'Wine Bars',\n",
              " 'Wine Tasting Room',\n",
              " 'Shopping',\n",
              " 'Department Stores',\n",
              " 'Drugstores',\n",
              " 'Grocery',\n",
              " 'Discount Store',\n",
              " 'Pharmacy',\n",
              " 'Food',\n",
              " 'Fashion',\n",
              " 'Electronics',\n",
              " 'Health & Medical',\n",
              " 'Restaurants',\n",
              " 'Burgers',\n",
              " 'Fast Food',\n",
              " 'Restaurants',\n",
              " 'Sushi Bars',\n",
              " 'Japanese',\n",
              " 'Food',\n",
              " 'Ice Cream & Frozen Yogurt',\n",
              " 'Restaurants',\n",
              " 'Sandwiches',\n",
              " 'Delis',\n",
              " 'Fast Food',\n",
              " 'Sandwiches',\n",
              " 'Restaurants',\n",
              " 'Burgers',\n",
              " 'Burgers',\n",
              " 'Ice Cream & Frozen Yogurt',\n",
              " 'Restaurants',\n",
              " 'Food',\n",
              " 'Fast Food',\n",
              " 'Event Planning & Services',\n",
              " 'Restaurants',\n",
              " 'Caterers',\n",
              " 'Fast Food',\n",
              " 'Chicken Shop',\n",
              " 'Fast Food',\n",
              " 'Restaurants',\n",
              " 'Burgers',\n",
              " 'Sandwiches',\n",
              " 'Restaurants',\n",
              " 'Fast Food',\n",
              " 'Asian Fusion',\n",
              " 'Restaurants',\n",
              " 'Pizza',\n",
              " 'Italian',\n",
              " 'Restaurants',\n",
              " 'Hotels',\n",
              " 'Restaurants',\n",
              " 'Diners',\n",
              " 'American (New)',\n",
              " 'Hotels & Travel',\n",
              " 'American (Traditional)',\n",
              " 'Event Planning & Services',\n",
              " 'Gastropubs',\n",
              " 'Fast Food',\n",
              " 'Sandwiches',\n",
              " 'Restaurants',\n",
              " 'Sandwiches',\n",
              " 'Fast Food',\n",
              " 'Restaurants',\n",
              " 'Thai',\n",
              " 'Restaurants',\n",
              " 'Noodles',\n",
              " 'Vegetarian',\n",
              " 'Fast Food',\n",
              " 'Chicken Shop',\n",
              " 'Chicken Wings',\n",
              " 'Restaurants',\n",
              " 'Restaurants',\n",
              " 'American (New)',\n",
              " 'Mexican',\n",
              " 'Ice Cream & Frozen Yogurt',\n",
              " 'Food',\n",
              " 'Burgers',\n",
              " 'Fast Food',\n",
              " 'Restaurants',\n",
              " 'Pizza',\n",
              " 'Restaurants',\n",
              " 'Steakhouses',\n",
              " 'American (Traditional)',\n",
              " 'Grocery',\n",
              " 'Food',\n",
              " 'Restaurants',\n",
              " 'Pizza',\n",
              " 'Italian',\n",
              " 'Salad',\n",
              " 'Gluten-Free',\n",
              " 'Fast Food',\n",
              " 'Restaurants',\n",
              " 'Burgers',\n",
              " 'Food',\n",
              " 'Soup',\n",
              " 'Breakfast & Brunch',\n",
              " 'Bagels',\n",
              " 'Salad',\n",
              " 'American (New)',\n",
              " 'Sandwiches',\n",
              " 'Restaurants',\n",
              " 'Restaurants',\n",
              " 'Pizza',\n",
              " 'Bars',\n",
              " 'American (Traditional)',\n",
              " 'Restaurants',\n",
              " 'Dive Bars',\n",
              " 'Nightlife',\n",
              " 'Irish Pub',\n",
              " 'Restaurants',\n",
              " 'Fast Food',\n",
              " 'Burgers',\n",
              " 'Sandwiches',\n",
              " 'Drugstores',\n",
              " 'Grocery',\n",
              " 'Discount Store',\n",
              " 'Mobile Phones',\n",
              " 'Department Stores',\n",
              " 'Shopping',\n",
              " 'Fashion',\n",
              " 'Food',\n",
              " 'Electronics',\n",
              " 'Bars',\n",
              " 'Nightlife',\n",
              " 'Hot Dogs',\n",
              " 'Restaurants',\n",
              " 'Mexican',\n",
              " 'Fast Food',\n",
              " 'Restaurants',\n",
              " 'Sandwiches',\n",
              " 'Delis',\n",
              " 'Restaurants',\n",
              " 'Food',\n",
              " 'Ice Cream & Frozen Yogurt',\n",
              " 'Fast Food',\n",
              " 'Burgers',\n",
              " 'Fast Food',\n",
              " 'Mexican',\n",
              " 'Restaurants',\n",
              " 'Breakfast & Brunch',\n",
              " 'Tacos',\n",
              " 'Burgers',\n",
              " 'Tires',\n",
              " 'Discount Store',\n",
              " 'Automotive',\n",
              " 'Department Stores',\n",
              " 'Mobile Phones',\n",
              " 'Food',\n",
              " 'Electronics',\n",
              " 'Grocery',\n",
              " 'Drugstores',\n",
              " 'Shopping',\n",
              " 'Fashion',\n",
              " 'Active Life',\n",
              " 'Restaurants',\n",
              " 'Arcades',\n",
              " 'Arts & Entertainment',\n",
              " 'American (New)',\n",
              " 'Bowling',\n",
              " 'Fast Food',\n",
              " 'Burgers',\n",
              " 'Food',\n",
              " 'Restaurants',\n",
              " 'Ice Cream & Frozen Yogurt',\n",
              " 'Burgers',\n",
              " 'Restaurants',\n",
              " 'Coffee & Tea',\n",
              " 'Fast Food',\n",
              " 'Food',\n",
              " 'Pizza',\n",
              " 'Restaurants',\n",
              " 'Sandwiches',\n",
              " 'Chicken Wings',\n",
              " 'Restaurants',\n",
              " 'Coffee & Tea',\n",
              " 'Burgers',\n",
              " 'Fast Food',\n",
              " 'Food',\n",
              " 'Restaurants',\n",
              " 'Sandwiches',\n",
              " 'Fast Food',\n",
              " 'Restaurants',\n",
              " 'Breakfast & Brunch',\n",
              " 'Diners',\n",
              " 'American (Traditional)',\n",
              " 'American (Traditional)',\n",
              " 'Restaurants',\n",
              " 'Restaurants',\n",
              " 'Breakfast & Brunch',\n",
              " 'Tacos',\n",
              " 'Mexican',\n",
              " 'Tex-Mex',\n",
              " 'Fast Food',\n",
              " 'Italian',\n",
              " 'American (Traditional)',\n",
              " 'Event Planning & Services',\n",
              " 'Caterers',\n",
              " 'Restaurants',\n",
              " 'Nightlife',\n",
              " 'Bars',\n",
              " 'Venues & Event Spaces',\n",
              " 'Restaurants',\n",
              " 'Breakfast & Brunch',\n",
              " 'American (Traditional)',\n",
              " 'Restaurants',\n",
              " 'Mexican',\n",
              " 'Southern',\n",
              " 'Salad',\n",
              " 'Soup',\n",
              " 'Sandwiches',\n",
              " 'American (New)',\n",
              " 'Restaurants',\n",
              " 'Delis',\n",
              " 'Chicken Shop',\n",
              " 'Pizza',\n",
              " 'Restaurants',\n",
              " 'Bars',\n",
              " 'Lounges',\n",
              " 'Nightlife',\n",
              " 'Restaurants',\n",
              " 'Sushi Bars',\n",
              " 'Venues & Event Spaces',\n",
              " 'Event Planning & Services',\n",
              " 'Arts & Entertainment',\n",
              " 'Nightlife',\n",
              " 'Music Venues',\n",
              " 'Bars',\n",
              " 'Lounges',\n",
              " 'Cajun/Creole',\n",
              " 'Restaurants',\n",
              " 'Restaurants',\n",
              " 'American (Traditional)',\n",
              " 'Nightlife',\n",
              " 'Bars',\n",
              " 'Restaurants',\n",
              " 'Korean',\n",
              " 'Sushi Bars',\n",
              " 'Japanese',\n",
              " 'Burgers',\n",
              " 'Breakfast & Brunch',\n",
              " 'Restaurants',\n",
              " 'Fast Food',\n",
              " 'Mexican',\n",
              " 'Restaurants',\n",
              " 'Steakhouses',\n",
              " 'Nightlife',\n",
              " 'Seafood',\n",
              " 'Cocktail Bars',\n",
              " 'Bars',\n",
              " 'Restaurants',\n",
              " 'American (New)',\n",
              " 'Wine Bars',\n",
              " 'Restaurants',\n",
              " 'Barbeque',\n",
              " 'Donuts',\n",
              " 'Food',\n",
              " 'Bakeries',\n",
              " 'Custom Cakes',\n",
              " 'Mexican',\n",
              " 'Restaurants',\n",
              " 'Fast Food',\n",
              " 'Food',\n",
              " 'Burgers',\n",
              " 'Restaurants',\n",
              " 'Coffee & Tea',\n",
              " 'Fast Food',\n",
              " 'Restaurants',\n",
              " 'Bakeries',\n",
              " 'Food',\n",
              " 'Pancakes',\n",
              " 'American (New)',\n",
              " 'Wraps',\n",
              " 'Burgers',\n",
              " 'Breakfast & Brunch',\n",
              " 'Restaurants',\n",
              " 'Coffee & Tea',\n",
              " 'Food',\n",
              " 'Restaurants',\n",
              " 'American (Traditional)',\n",
              " 'American (New)',\n",
              " 'Cafes',\n",
              " 'Food',\n",
              " 'Bakeries',\n",
              " 'Breakfast & Brunch',\n",
              " 'American (Traditional)',\n",
              " 'Barbeque',\n",
              " 'Restaurants',\n",
              " 'Sandwiches',\n",
              " 'Chicken Wings',\n",
              " 'Chinese',\n",
              " 'Restaurants',\n",
              " 'American (New)',\n",
              " 'Breakfast & Brunch',\n",
              " 'Fast Food',\n",
              " 'Sandwiches',\n",
              " 'Restaurants',\n",
              " 'Hot Dogs',\n",
              " 'American (Traditional)',\n",
              " 'Restaurants',\n",
              " 'Burgers',\n",
              " 'Restaurants',\n",
              " 'Sandwiches',\n",
              " 'Fast Food',\n",
              " 'Restaurants',\n",
              " 'American (Traditional)',\n",
              " 'Salad',\n",
              " 'Burgers',\n",
              " 'Soup',\n",
              " 'Restaurants',\n",
              " 'Food',\n",
              " 'Tea Rooms',\n",
              " 'Breakfast & Brunch',\n",
              " 'Sandwiches',\n",
              " 'Food',\n",
              " 'Fast Food',\n",
              " 'Restaurants',\n",
              " 'Burgers',\n",
              " 'Coffee & Tea',\n",
              " 'Food',\n",
              " 'Gas Stations',\n",
              " 'Convenience Stores',\n",
              " 'Automotive',\n",
              " 'Nightlife',\n",
              " 'Active Life',\n",
              " 'Shopping',\n",
              " 'Restaurants',\n",
              " 'Bars',\n",
              " 'Sports Bars',\n",
              " 'American (New)',\n",
              " 'Mini Golf',\n",
              " 'Hobby Shops',\n",
              " 'Pubs',\n",
              " 'Restaurants',\n",
              " 'Fast Food',\n",
              " 'Burgers',\n",
              " 'Japanese',\n",
              " 'Restaurants',\n",
              " 'Sushi Bars',\n",
              " 'Restaurants',\n",
              " 'Seafood',\n",
              " 'Southern',\n",
              " 'Distilleries',\n",
              " 'Food',\n",
              " 'Restaurants',\n",
              " 'Chinese',\n",
              " 'Coffee & Tea',\n",
              " 'Food',\n",
              " 'Fast Food',\n",
              " 'Tacos',\n",
              " 'Restaurants',\n",
              " 'Breakfast & Brunch',\n",
              " 'Burgers',\n",
              " 'Mexican',\n",
              " 'Food',\n",
              " 'Breakfast & Brunch',\n",
              " 'Sandwiches',\n",
              " 'Coffee & Tea',\n",
              " 'Specialty Food',\n",
              " 'Restaurants',\n",
              " 'Fast Food',\n",
              " 'Coffee & Tea',\n",
              " 'Burgers',\n",
              " 'Food',\n",
              " 'Restaurants',\n",
              " 'Coffee & Tea',\n",
              " 'Food',\n",
              " 'Caterers',\n",
              " 'Event Planning & Services',\n",
              " 'Restaurants',\n",
              " 'Fast Food',\n",
              " 'Mexican',\n",
              " 'Seafood',\n",
              " 'Fast Food',\n",
              " 'Restaurants',\n",
              " 'Pizza',\n",
              " 'Restaurants',\n",
              " 'Diners',\n",
              " 'Food',\n",
              " 'Chicken Wings',\n",
              " 'American (New)',\n",
              " 'Salad',\n",
              " 'Fast Food',\n",
              " 'Restaurants',\n",
              " 'Burgers',\n",
              " 'Sandwiches',\n",
              " 'American (New)',\n",
              " 'Cheesesteaks',\n",
              " 'Restaurants',\n",
              " 'Restaurants',\n",
              " 'Beer',\n",
              " 'Wine & Spirits',\n",
              " 'Bars',\n",
              " 'American (Traditional)',\n",
              " 'Nightlife',\n",
              " 'Food',\n",
              " 'Wine Bars',\n",
              " 'Pubs',\n",
              " 'American (Traditional)',\n",
              " 'Barbeque',\n",
              " 'Restaurants',\n",
              " 'Steakhouses',\n",
              " 'Food',\n",
              " 'Ice Cream & Frozen Yogurt',\n",
              " 'Pizza',\n",
              " 'Italian',\n",
              " 'Restaurants',\n",
              " 'Salad',\n",
              " 'Fast Food',\n",
              " 'Wraps',\n",
              " 'Restaurants',\n",
              " 'Ice Cream & Frozen Yogurt',\n",
              " 'Restaurants',\n",
              " 'Burgers',\n",
              " 'Food',\n",
              " 'Fast Food',\n",
              " 'Cheesesteaks',\n",
              " 'Restaurants',\n",
              " 'Sandwiches',\n",
              " 'Event Planning & Services',\n",
              " 'Bars',\n",
              " 'Breakfast & Brunch',\n",
              " 'Barbeque',\n",
              " 'Caterers',\n",
              " 'Sandwiches',\n",
              " 'Nightlife',\n",
              " 'Restaurants',\n",
              " 'Breakfast & Brunch',\n",
              " 'Coffee & Tea',\n",
              " 'Juice Bars & Smoothies',\n",
              " 'Food',\n",
              " 'Restaurants',\n",
              " 'Tapas/Small Plates',\n",
              " 'Food',\n",
              " 'Chicken Wings',\n",
              " 'Desserts',\n",
              " 'Southern',\n",
              " 'Sandwiches',\n",
              " 'Seafood',\n",
              " 'Restaurants',\n",
              " 'Buffets',\n",
              " 'Seafood',\n",
              " 'Chinese',\n",
              " 'Restaurants',\n",
              " 'Event Planning & Services',\n",
              " 'Food',\n",
              " 'Burgers',\n",
              " 'Salad',\n",
              " 'Sandwiches',\n",
              " 'Restaurants',\n",
              " 'Smokehouse',\n",
              " 'Caterers',\n",
              " 'Fast Food',\n",
              " 'American (Traditional)',\n",
              " 'Barbeque',\n",
              " 'Restaurants',\n",
              " 'Mexican',\n",
              " 'Food',\n",
              " 'Restaurants',\n",
              " 'Specialty Food',\n",
              " 'Cheese Shops',\n",
              " 'Meat Shops',\n",
              " 'Delis',\n",
              " 'Beer',\n",
              " 'Wine & Spirits',\n",
              " 'Food',\n",
              " 'Restaurants',\n",
              " 'Breakfast & Brunch',\n",
              " 'Tacos',\n",
              " 'Restaurants',\n",
              " 'Fast Food',\n",
              " 'Tex-Mex',\n",
              " 'Mexican',\n",
              " 'American (Traditional)',\n",
              " 'Event Planning & Services',\n",
              " 'Breakfast & Brunch',\n",
              " 'Caterers',\n",
              " 'Comfort Food',\n",
              " 'Southern',\n",
              " 'Restaurants',\n",
              " 'American (New)',\n",
              " 'Restaurants',\n",
              " 'Salad',\n",
              " 'Breakfast & Brunch',\n",
              " 'Soup',\n",
              " 'Bagels',\n",
              " 'Food',\n",
              " 'Sandwiches',\n",
              " 'Specialty Food',\n",
              " 'Sandwiches',\n",
              " 'Barbeque',\n",
              " 'Restaurants',\n",
              " 'Food',\n",
              " 'Breakfast & Brunch',\n",
              " 'Donuts',\n",
              " 'Food',\n",
              " 'Home & Garden',\n",
              " 'Shopping',\n",
              " 'Grocery',\n",
              " 'Drugstores',\n",
              " 'Fashion',\n",
              " 'Department Stores',\n",
              " 'Food',\n",
              " 'Electronics',\n",
              " 'Furniture Stores',\n",
              " 'Bars',\n",
              " 'American (Traditional)',\n",
              " 'Chicken Wings',\n",
              " 'Sports Bars',\n",
              " 'Nightlife',\n",
              " 'Restaurants',\n",
              " 'Food',\n",
              " 'Restaurants',\n",
              " 'Vegetarian',\n",
              " 'Custom Cakes',\n",
              " 'Specialty Food',\n",
              " 'Vegan',\n",
              " 'Cupcakes',\n",
              " 'Bakeries',\n",
              " 'Sandwiches',\n",
              " 'Pizza',\n",
              " 'Chicken Wings',\n",
              " 'Restaurants',\n",
              " 'Steakhouses',\n",
              " 'Sports Bars',\n",
              " 'Restaurants',\n",
              " 'Bars',\n",
              " 'American (Traditional)',\n",
              " 'American (New)',\n",
              " 'Burgers',\n",
              " 'Chicken Wings',\n",
              " 'Nightlife',\n",
              " 'Donuts',\n",
              " 'Food',\n",
              " 'Bars',\n",
              " 'Desserts',\n",
              " 'Italian',\n",
              " 'Nightlife',\n",
              " 'Beer',\n",
              " 'Wine & Spirits',\n",
              " 'Food',\n",
              " 'Pizza',\n",
              " 'Restaurants',\n",
              " 'American (Traditional)',\n",
              " 'Restaurants',\n",
              " 'Steakhouses',\n",
              " 'Nightlife',\n",
              " 'Sports Bars',\n",
              " 'Bars',\n",
              " 'Restaurants',\n",
              " 'Burgers',\n",
              " 'American (Traditional)',\n",
              " 'Chicken Wings',\n",
              " 'Pumpkin Patches',\n",
              " 'Food',\n",
              " 'Shopping',\n",
              " 'Farmers Market',\n",
              " 'Home & Garden',\n",
              " 'Southern',\n",
              " 'American (Traditional)',\n",
              " 'Restaurants',\n",
              " 'Soul Food',\n",
              " 'Music Venues',\n",
              " 'American (New)',\n",
              " 'Sports Bars',\n",
              " 'Restaurants',\n",
              " 'Arts & Entertainment',\n",
              " 'American (Traditional)',\n",
              " 'Bars',\n",
              " 'Nightlife',\n",
              " 'Pizza',\n",
              " 'Salad',\n",
              " 'Italian',\n",
              " 'Restaurants',\n",
              " 'Arts & Entertainment',\n",
              " 'Leisure Centers',\n",
              " 'Active Life',\n",
              " 'Party & Event Planning',\n",
              " 'Event Planning & Services',\n",
              " 'Sporting Goods',\n",
              " 'Restaurants',\n",
              " 'American (New)',\n",
              " 'Arcades',\n",
              " 'Bowling',\n",
              " 'Shopping',\n",
              " 'Restaurants',\n",
              " 'Burgers',\n",
              " 'Fast Food',\n",
              " 'Health Markets',\n",
              " 'Food',\n",
              " 'Specialty Food',\n",
              " 'Shopping',\n",
              " 'Vitamins & Supplements',\n",
              " 'Farmers Market',\n",
              " 'Grocery',\n",
              " 'Organic Stores',\n",
              " 'Coffee & Tea',\n",
              " 'Ice Cream & Frozen Yogurt',\n",
              " 'Food',\n",
              " 'Food',\n",
              " 'Grocery',\n",
              " 'Sandwiches',\n",
              " 'Fast Food',\n",
              " 'Restaurants',\n",
              " 'Soul Food',\n",
              " 'Restaurants',\n",
              " 'Sandwiches',\n",
              " 'Breakfast & Brunch',\n",
              " 'Sushi Bars',\n",
              " 'Food',\n",
              " 'Restaurants',\n",
              " 'Beer',\n",
              " 'Wine & Spirits',\n",
              " 'Food',\n",
              " 'Restaurants',\n",
              " 'Tex-Mex',\n",
              " 'Breakfast & Brunch',\n",
              " 'Fast Food',\n",
              " 'Tacos',\n",
              " 'Mexican',\n",
              " 'Mexican',\n",
              " 'Restaurants',\n",
              " 'Cosmetics & Beauty Supply',\n",
              " 'Shopping',\n",
              " 'Beauty & Spas',\n",
              " 'Food',\n",
              " 'Drugstores',\n",
              " 'Convenience Stores',\n",
              " 'Photography Stores & Services',\n",
              " 'Restaurants',\n",
              " 'Seafood',\n",
              " 'Lounges',\n",
              " 'Restaurants',\n",
              " 'Nightlife',\n",
              " 'American (New)',\n",
              " 'Bars',\n",
              " 'Bed & Breakfast',\n",
              " 'Restaurants',\n",
              " 'Comfort Food',\n",
              " 'Breakfast & Brunch',\n",
              " 'Salad',\n",
              " 'Hotels & Travel',\n",
              " 'American (Traditional)',\n",
              " 'Restaurants',\n",
              " 'Sushi Bars',\n",
              " 'Restaurants',\n",
              " 'Coffee & Tea',\n",
              " 'Coffee Roasteries',\n",
              " 'Breakfast & Brunch',\n",
              " 'Food',\n",
              " 'Cafes',\n",
              " 'Tacos',\n",
              " 'Restaurants',\n",
              " 'Breakfast & Brunch',\n",
              " 'Mexican',\n",
              " 'Fast Food',\n",
              " 'Tex-Mex',\n",
              " 'Grocery',\n",
              " 'Shopping',\n",
              " 'Food',\n",
              " 'Discount Store',\n",
              " 'Restaurants',\n",
              " 'Sandwiches',\n",
              " 'Fast Food',\n",
              " 'Fashion',\n",
              " 'Shopping',\n",
              " 'Department Stores',\n",
              " 'Drugstores',\n",
              " 'Food',\n",
              " 'Beer',\n",
              " 'Wine & Spirits',\n",
              " 'Flowers & Gifts',\n",
              " 'Grocery',\n",
              " 'Fish & Chips',\n",
              " 'Chicken Shop',\n",
              " 'Restaurants',\n",
              " 'Nightlife',\n",
              " 'Chicken Wings',\n",
              " 'Bars',\n",
              " 'American (Traditional)',\n",
              " 'Sports Bars',\n",
              " 'Restaurants',\n",
              " 'Sandwiches',\n",
              " 'Restaurants',\n",
              " 'Fast Food',\n",
              " 'Burgers',\n",
              " 'Food',\n",
              " 'Restaurants',\n",
              " 'Coffee & Tea',\n",
              " 'Fast Food',\n",
              " 'Ice Cream & Frozen Yogurt',\n",
              " 'Desserts',\n",
              " 'Do-It-Yourself Food',\n",
              " 'Food',\n",
              " 'Bars',\n",
              " 'Sports Bars',\n",
              " 'Nightlife',\n",
              " 'Restaurants',\n",
              " 'Burgers',\n",
              " 'Steakhouses',\n",
              " 'American (Traditional)',\n",
              " 'Chicken Wings',\n",
              " 'Fast Food',\n",
              " 'Restaurants',\n",
              " 'Chicken Wings',\n",
              " 'Pizza',\n",
              " 'Fast Food',\n",
              " 'Italian',\n",
              " 'Seafood',\n",
              " 'Chinese',\n",
              " 'Restaurants',\n",
              " 'Hardware Stores',\n",
              " 'Food',\n",
              " 'Grocery',\n",
              " 'Shopping',\n",
              " 'Nurseries & Gardening',\n",
              " 'Home & Garden',\n",
              " 'Sporting Goods',\n",
              " 'Farming Equipment',\n",
              " 'Fast Food',\n",
              " 'Restaurants',\n",
              " 'Food',\n",
              " 'Irish',\n",
              " 'Food',\n",
              " 'Irish Pub',\n",
              " 'Restaurants',\n",
              " 'Whiskey Bars',\n",
              " 'Nightlife',\n",
              " 'Bars',\n",
              " 'Pubs',\n",
              " 'Beer',\n",
              " 'Wine & Spirits',\n",
              " 'Juice Bars & Smoothies',\n",
              " 'Breakfast & Brunch',\n",
              " 'Sandwiches',\n",
              " 'Restaurants',\n",
              " 'Coffee & Tea',\n",
              " 'Food',\n",
              " 'Barbeque',\n",
              " 'American (Traditional)',\n",
              " 'Restaurants',\n",
              " 'Steakhouses',\n",
              " 'Restaurants',\n",
              " 'Chinese',\n",
              " 'Restaurants',\n",
              " 'Fast Food',\n",
              " 'Burgers',\n",
              " 'Chinese',\n",
              " 'Restaurants',\n",
              " 'Burgers',\n",
              " 'Breakfast & Brunch',\n",
              " 'American (Traditional)',\n",
              " 'Restaurants',\n",
              " 'Sandwiches',\n",
              " 'Diners',\n",
              " 'Event Planning & Services',\n",
              " 'Cafes',\n",
              " 'Caterers',\n",
              " 'Restaurants',\n",
              " 'Nightlife',\n",
              " 'Chicken Wings',\n",
              " 'Sports Bars',\n",
              " 'American (Traditional)',\n",
              " 'Restaurants',\n",
              " 'Bars',\n",
              " 'Indian',\n",
              " 'Restaurants',\n",
              " 'Vegan',\n",
              " 'Pakistani',\n",
              " 'Middle Eastern',\n",
              " 'Vegetarian',\n",
              " 'Breakfast & Brunch',\n",
              " 'Mexican',\n",
              " 'Seafood',\n",
              " 'Restaurants',\n",
              " 'Restaurants',\n",
              " 'Fast Food',\n",
              " 'Chicken Wings',\n",
              " 'Pizza',\n",
              " 'Italian',\n",
              " 'Pizza',\n",
              " 'Restaurants',\n",
              " 'Italian',\n",
              " 'Coffee & Tea',\n",
              " 'Food',\n",
              " 'Pizza',\n",
              " 'Sandwiches',\n",
              " 'Restaurants',\n",
              " 'Chicken Wings',\n",
              " 'Restaurants',\n",
              " 'Pizza',\n",
              " 'Breakfast & Brunch',\n",
              " 'Diners',\n",
              " 'American (Traditional)',\n",
              " 'Restaurants',\n",
              " 'Burgers',\n",
              " 'American (New)',\n",
              " 'Breakfast & Brunch',\n",
              " 'Italian',\n",
              " 'Mediterranean',\n",
              " 'Restaurants',\n",
              " ...]"
            ]
          },
          "execution_count": 48,
          "metadata": {},
          "output_type": "execute_result"
        }
      ],
      "source": [
        "category_elements = [x.strip(' ') for x in category_elements]\n",
        "category_elements"
      ]
    },
    {
      "cell_type": "code",
      "execution_count": 49,
      "metadata": {
        "colab": {
          "base_uri": "https://localhost:8080/"
        },
        "id": "XMrQtVvtR6jz",
        "outputId": "47220344-3bd1-479d-dfe3-f9d29d7b6926"
      },
      "outputs": [
        {
          "data": {
            "text/plain": [
              "[('Restaurants', 723),\n",
              " ('Food', 321),\n",
              " ('Fast Food', 208),\n",
              " ('American (Traditional)', 159),\n",
              " ('Burgers', 146),\n",
              " ('Sandwiches', 115),\n",
              " ('Nightlife', 113),\n",
              " ('Bars', 112),\n",
              " ('Breakfast & Brunch', 100),\n",
              " ('Pizza', 98),\n",
              " ('Mexican', 87),\n",
              " ('Coffee & Tea', 72),\n",
              " ('American (New)', 71),\n",
              " ('Chicken Wings', 66),\n",
              " ('Shopping', 60),\n",
              " ('Italian', 55),\n",
              " ('Chinese', 52),\n",
              " ('Ice Cream & Frozen Yogurt', 52),\n",
              " ('Salad', 49),\n",
              " ('Event Planning & Services', 48)]"
            ]
          },
          "execution_count": 49,
          "metadata": {},
          "output_type": "execute_result"
        }
      ],
      "source": [
        "Counter(category_elements).most_common(20)"
      ]
    },
    {
      "cell_type": "code",
      "execution_count": 50,
      "metadata": {
        "id": "yE-BU8yQR6jz"
      },
      "outputs": [],
      "source": [
        "# category_ele = list(category_ele)\n",
        "features = Counter(category_elements).most_common(20)\n",
        "feature = [x[0] for x in features]\n",
        "\n",
        "for col in feature:\n",
        "    business_in_IL[col]= np.nan\n",
        "# for i in feature:\n",
        "#     print(str(i))\n",
        "for i in feature:\n",
        "    for index in business_in_IL.index:\n",
        "\n",
        "        if i in business_in_IL.categories[index]:\n",
        "            business_in_IL[i][index] = 1\n",
        "        else:\n",
        "            business_in_IL[i][index] = 0"
      ]
    },
    {
      "cell_type": "code",
      "execution_count": 51,
      "metadata": {
        "colab": {
          "base_uri": "https://localhost:8080/"
        },
        "id": "qx8_weByR6jz",
        "outputId": "95f6365b-a425-4d51-d7bd-fbde2fa7d524"
      },
      "outputs": [
        {
          "data": {
            "text/plain": [
              "Index(['business_id', 'name', 'address', 'city', 'state', 'postal_code',\n",
              "       'latitude', 'longitude', 'stars', 'review_count', 'is_open',\n",
              "       'attributes', 'categories', 'hours', 'RestaurantsGoodForGroups',\n",
              "       'BikeParking', 'OutdoorSeating', 'RestaurantsTakeOut',\n",
              "       'RestaurantsPriceRange2', 'BusinessAcceptsCreditCards',\n",
              "       'RestaurantsReservations', 'RestaurantsDelivery', 'Restaurants', 'Food',\n",
              "       'Fast Food', 'American (Traditional)', 'Burgers', 'Sandwiches',\n",
              "       'Nightlife', 'Bars', 'Breakfast & Brunch', 'Pizza', 'Mexican',\n",
              "       'Coffee & Tea', 'American (New)', 'Chicken Wings', 'Shopping',\n",
              "       'Italian', 'Chinese', 'Ice Cream & Frozen Yogurt', 'Salad',\n",
              "       'Event Planning & Services'],\n",
              "      dtype='object')"
            ]
          },
          "execution_count": 51,
          "metadata": {},
          "output_type": "execute_result"
        }
      ],
      "source": [
        "(business_in_IL.columns)"
      ]
    },
    {
      "cell_type": "code",
      "execution_count": 52,
      "metadata": {
        "id": "Q3gpK9V6R6j0"
      },
      "outputs": [],
      "source": [
        "business_in_IL.to_csv(\"D:\\\\Workspace\\\\Data_Mining\\\\Restaurant_Recomendation_System\\\\data\\\\Business_in_Illinois.csv\")"
      ]
    },
    {
      "cell_type": "code",
      "execution_count": 60,
      "metadata": {
        "colab": {
          "base_uri": "https://localhost:8080/",
          "height": 193
        },
        "id": "4lGx47_iR6j1",
        "outputId": "e63cdbd9-0389-4963-e330-3b54337dc9bc"
      },
      "outputs": [],
      "source": [
        "reviews = []\n",
        "with open(os.path.join(os.getcwd(), 'D:/yelp_academic_dataset_review.json'),encoding=\"utf8\") as f:\n",
        "    for line in f:\n",
        "        reviews.append(json.loads(line))"
      ]
    },
    {
      "cell_type": "code",
      "execution_count": 61,
      "metadata": {
        "id": "VEa5K1uZR6j1"
      },
      "outputs": [],
      "source": [
        "reviews = pd.DataFrame(reviews)"
      ]
    },
    {
      "cell_type": "code",
      "execution_count": 62,
      "metadata": {
        "id": "JFrmIQhtR6j1"
      },
      "outputs": [],
      "source": [
        "business_ratings = pd.merge(business_in_IL, reviews[['review_id', 'business_id', 'stars']], on = 'business_id', how = 'left')"
      ]
    },
    {
      "cell_type": "code",
      "execution_count": 63,
      "metadata": {
        "id": "c8hvtOlSR6j1"
      },
      "outputs": [],
      "source": [
        "Five_star = business_ratings[business_ratings['stars_y'] == 5.0]"
      ]
    },
    {
      "cell_type": "code",
      "execution_count": 64,
      "metadata": {
        "id": "S1kaae21R6j1"
      },
      "outputs": [],
      "source": [
        "Five_star_order = Five_star.name.value_counts()"
      ]
    },
    {
      "cell_type": "code",
      "execution_count": 65,
      "metadata": {
        "id": "6r604Iq6R6j1"
      },
      "outputs": [],
      "source": [
        "Five_star_order = Five_star_order.to_frame().reset_index()\n",
        "Five_star_order.columns = ['Restaurant', 'Counts']\n"
      ]
    },
    {
      "cell_type": "code",
      "execution_count": 66,
      "metadata": {
        "id": "5mqDLoyjR6j1"
      },
      "outputs": [
        {
          "data": {
            "text/html": [
              "<div>\n",
              "<style scoped>\n",
              "    .dataframe tbody tr th:only-of-type {\n",
              "        vertical-align: middle;\n",
              "    }\n",
              "\n",
              "    .dataframe tbody tr th {\n",
              "        vertical-align: top;\n",
              "    }\n",
              "\n",
              "    .dataframe thead th {\n",
              "        text-align: right;\n",
              "    }\n",
              "</style>\n",
              "<table border=\"1\" class=\"dataframe\">\n",
              "  <thead>\n",
              "    <tr style=\"text-align: right;\">\n",
              "      <th></th>\n",
              "      <th>Restaurant</th>\n",
              "      <th>Counts</th>\n",
              "    </tr>\n",
              "  </thead>\n",
              "  <tbody>\n",
              "    <tr>\n",
              "      <th>9</th>\n",
              "      <td>Bella Milano</td>\n",
              "      <td>130</td>\n",
              "    </tr>\n",
              "    <tr>\n",
              "      <th>8</th>\n",
              "      <td>Fast Eddie's Bon Air</td>\n",
              "      <td>139</td>\n",
              "    </tr>\n",
              "    <tr>\n",
              "      <th>7</th>\n",
              "      <td>Doc's Smokehouse</td>\n",
              "      <td>150</td>\n",
              "    </tr>\n",
              "    <tr>\n",
              "      <th>6</th>\n",
              "      <td>Dewey's Pizza</td>\n",
              "      <td>180</td>\n",
              "    </tr>\n",
              "    <tr>\n",
              "      <th>5</th>\n",
              "      <td>Lotawata Creek Southern Grill</td>\n",
              "      <td>190</td>\n",
              "    </tr>\n",
              "    <tr>\n",
              "      <th>4</th>\n",
              "      <td>Eckert's Country Store &amp; Farms</td>\n",
              "      <td>197</td>\n",
              "    </tr>\n",
              "    <tr>\n",
              "      <th>3</th>\n",
              "      <td>Hop House Southern Eatery</td>\n",
              "      <td>210</td>\n",
              "    </tr>\n",
              "    <tr>\n",
              "      <th>2</th>\n",
              "      <td>Cleveland-Heath</td>\n",
              "      <td>331</td>\n",
              "    </tr>\n",
              "    <tr>\n",
              "      <th>1</th>\n",
              "      <td>Peel Wood Fired Pizza</td>\n",
              "      <td>414</td>\n",
              "    </tr>\n",
              "    <tr>\n",
              "      <th>0</th>\n",
              "      <td>BEAST Craft BBQ</td>\n",
              "      <td>425</td>\n",
              "    </tr>\n",
              "  </tbody>\n",
              "</table>\n",
              "</div>"
            ],
            "text/plain": [
              "                       Restaurant  Counts\n",
              "9                    Bella Milano     130\n",
              "8            Fast Eddie's Bon Air     139\n",
              "7                Doc's Smokehouse     150\n",
              "6                   Dewey's Pizza     180\n",
              "5   Lotawata Creek Southern Grill     190\n",
              "4  Eckert's Country Store & Farms     197\n",
              "3       Hop House Southern Eatery     210\n",
              "2                 Cleveland-Heath     331\n",
              "1           Peel Wood Fired Pizza     414\n",
              "0                 BEAST Craft BBQ     425"
            ]
          },
          "execution_count": 66,
          "metadata": {},
          "output_type": "execute_result"
        }
      ],
      "source": [
        "Five_star_order = Five_star_order.head(10)\n",
        "Five_star_order = Five_star_order.sort_values(['Counts'], ascending = True)\n",
        "Five_star_order"
      ]
    },
    {
      "cell_type": "code",
      "execution_count": 67,
      "metadata": {
        "id": "wmhFnhwpR6j2"
      },
      "outputs": [
        {
          "data": {
            "image/png": "[encoded data removed]",
            "text/plain": [
              "<Figure size 2000x1000 with 1 Axes>"
            ]
          },
          "metadata": {},
          "output_type": "display_data"
        }
      ],
      "source": [
        "fig = plt.figure(figsize = (20,10))\n",
        "ax = fig.add_subplot(111)\n",
        "plt.barh(Five_star_order.Restaurant, Five_star_order.Counts, align = 'center', alpha = 1)\n",
        "plt.ylabel('Restaurant name')\n",
        "plt.xlabel('Number of 5 star ratings')\n",
        "plt.show()"
      ]
    },
    {
      "cell_type": "code",
      "execution_count": 68,
      "metadata": {
        "id": "pL6hIGXIR6j2"
      },
      "outputs": [
        {
          "data": {
            "text/plain": [
              "Index(['review_id', 'user_id', 'business_id', 'stars', 'useful', 'funny',\n",
              "       'cool', 'text', 'date'],\n",
              "      dtype='object')"
            ]
          },
          "execution_count": 68,
          "metadata": {},
          "output_type": "execute_result"
        }
      ],
      "source": [
        "reviews.columns"
      ]
    },
    {
      "cell_type": "code",
      "execution_count": 69,
      "metadata": {
        "id": "uYzbQTzDR6j2"
      },
      "outputs": [
        {
          "name": "stderr",
          "output_type": "stream",
          "text": [
            "[nltk_data] Downloading package stopwords to\n",
            "[nltk_data]     C:\\Users\\Kiss\\AppData\\Roaming\\nltk_data...\n",
            "[nltk_data]   Package stopwords is already up-to-date!\n"
          ]
        }
      ],
      "source": [
        "import nltk\n",
        "nltk.download('stopwords')\n",
        "from nltk.corpus import stopwords\n",
        "stop = stopwords.words('english')"
      ]
    },
    {
      "cell_type": "code",
      "execution_count": 70,
      "metadata": {
        "id": "Pcx58HE7R6j2"
      },
      "outputs": [],
      "source": [
        "ids = business_in_IL.business_id.to_list()"
      ]
    },
    {
      "cell_type": "code",
      "execution_count": 71,
      "metadata": {
        "id": "6PksTtmGR6j2"
      },
      "outputs": [
        {
          "data": {
            "text/html": [
              "<div>\n",
              "<style scoped>\n",
              "    .dataframe tbody tr th:only-of-type {\n",
              "        vertical-align: middle;\n",
              "    }\n",
              "\n",
              "    .dataframe tbody tr th {\n",
              "        vertical-align: top;\n",
              "    }\n",
              "\n",
              "    .dataframe thead th {\n",
              "        text-align: right;\n",
              "    }\n",
              "</style>\n",
              "<table border=\"1\" class=\"dataframe\">\n",
              "  <thead>\n",
              "    <tr style=\"text-align: right;\">\n",
              "      <th></th>\n",
              "      <th>review_id</th>\n",
              "      <th>user_id</th>\n",
              "      <th>business_id</th>\n",
              "      <th>stars</th>\n",
              "      <th>useful</th>\n",
              "      <th>funny</th>\n",
              "      <th>cool</th>\n",
              "      <th>text</th>\n",
              "      <th>date</th>\n",
              "    </tr>\n",
              "  </thead>\n",
              "  <tbody>\n",
              "    <tr>\n",
              "      <th>286</th>\n",
              "      <td>91uC4f0aX4ycQTDL5Hq7Mw</td>\n",
              "      <td>huHPQSQgw4kFakc0Vq7TDA</td>\n",
              "      <td>_D7QoWuQKMXk0mEE7r_Ftw</td>\n",
              "      <td>5.0</td>\n",
              "      <td>1</td>\n",
              "      <td>0</td>\n",
              "      <td>1</td>\n",
              "      <td>I have been a fan of Chateau La Vin for a few ...</td>\n",
              "      <td>2014-03-14 13:55:46</td>\n",
              "    </tr>\n",
              "    <tr>\n",
              "      <th>678</th>\n",
              "      <td>_qA6-L34QD8ruHD7xRI0Yg</td>\n",
              "      <td>ADsAwRQC3nvNvo4Qdvu2HQ</td>\n",
              "      <td>bQKqeYwaHNal7JFAXzCMFg</td>\n",
              "      <td>5.0</td>\n",
              "      <td>1</td>\n",
              "      <td>0</td>\n",
              "      <td>0</td>\n",
              "      <td>Our 1st visit here. We went through the drive ...</td>\n",
              "      <td>2015-06-21 04:03:17</td>\n",
              "    </tr>\n",
              "    <tr>\n",
              "      <th>1093</th>\n",
              "      <td>jvoscRFrS3pA4CgwqEceUg</td>\n",
              "      <td>j3cmlhUwxmbHjTwHiLuhVA</td>\n",
              "      <td>bQKqeYwaHNal7JFAXzCMFg</td>\n",
              "      <td>5.0</td>\n",
              "      <td>0</td>\n",
              "      <td>0</td>\n",
              "      <td>0</td>\n",
              "      <td>First, I love that they offer food delivery! S...</td>\n",
              "      <td>2017-06-17 17:00:46</td>\n",
              "    </tr>\n",
              "    <tr>\n",
              "      <th>2260</th>\n",
              "      <td>4nFZeKPhUu3Km1TDg4Hfnw</td>\n",
              "      <td>0KJs28i3bDhbxhQbgY0i9w</td>\n",
              "      <td>sMjjClYrGEXcTFG66qmg8A</td>\n",
              "      <td>5.0</td>\n",
              "      <td>0</td>\n",
              "      <td>0</td>\n",
              "      <td>0</td>\n",
              "      <td>I was staying in Columbia for a week, and orde...</td>\n",
              "      <td>2015-04-29 00:21:06</td>\n",
              "    </tr>\n",
              "    <tr>\n",
              "      <th>2436</th>\n",
              "      <td>LXA6BSbXwMwQAlGBOtD2EQ</td>\n",
              "      <td>QQn0DByk6xs0hZ72bhJXSA</td>\n",
              "      <td>IS0B5nLJPluVT8NwGgospA</td>\n",
              "      <td>1.0</td>\n",
              "      <td>0</td>\n",
              "      <td>0</td>\n",
              "      <td>0</td>\n",
              "      <td>Worst service in IL.  Lost our order, waited 2...</td>\n",
              "      <td>2018-09-03 01:28:53</td>\n",
              "    </tr>\n",
              "    <tr>\n",
              "      <th>...</th>\n",
              "      <td>...</td>\n",
              "      <td>...</td>\n",
              "      <td>...</td>\n",
              "      <td>...</td>\n",
              "      <td>...</td>\n",
              "      <td>...</td>\n",
              "      <td>...</td>\n",
              "      <td>...</td>\n",
              "      <td>...</td>\n",
              "    </tr>\n",
              "    <tr>\n",
              "      <th>6988347</th>\n",
              "      <td>Bpp-WFJ02DVkdrXina2vlg</td>\n",
              "      <td>fY7H7k-l3-VxnnEM-wHLvA</td>\n",
              "      <td>N6qpuOBs3SE3wn9t0dRNIg</td>\n",
              "      <td>1.0</td>\n",
              "      <td>1</td>\n",
              "      <td>1</td>\n",
              "      <td>0</td>\n",
              "      <td>This location closes at 9 pm. I got in their l...</td>\n",
              "      <td>2021-06-27 02:51:34</td>\n",
              "    </tr>\n",
              "    <tr>\n",
              "      <th>6989213</th>\n",
              "      <td>46FGf2LgBIJD43dlU4z3_A</td>\n",
              "      <td>XW-BonrE_YzzSgfdRD_1KA</td>\n",
              "      <td>0bVcCefYVtvU8MjXC5Na_Q</td>\n",
              "      <td>4.0</td>\n",
              "      <td>1</td>\n",
              "      <td>0</td>\n",
              "      <td>1</td>\n",
              "      <td>The sushi is always good! The bento boxes are ...</td>\n",
              "      <td>2019-01-19 21:37:40</td>\n",
              "    </tr>\n",
              "    <tr>\n",
              "      <th>6989958</th>\n",
              "      <td>rZ5iXD1lFIyqy2vQWMJq9w</td>\n",
              "      <td>52NYhDgWwaMTXwVqyYDXVQ</td>\n",
              "      <td>xPxiRUJt-sYZ1Nsm2o8gkw</td>\n",
              "      <td>2.0</td>\n",
              "      <td>0</td>\n",
              "      <td>0</td>\n",
              "      <td>0</td>\n",
              "      <td>The \"to go\" employee was not very nice. The cu...</td>\n",
              "      <td>2022-01-18 05:27:01</td>\n",
              "    </tr>\n",
              "    <tr>\n",
              "      <th>6990121</th>\n",
              "      <td>g5l3iICE40ZhBHraMLZitw</td>\n",
              "      <td>WuXBLay-Aek06VP4cZzFew</td>\n",
              "      <td>_qW1xzvEfIncBRnn3sHTvQ</td>\n",
              "      <td>1.0</td>\n",
              "      <td>0</td>\n",
              "      <td>0</td>\n",
              "      <td>0</td>\n",
              "      <td>We decided to go to the O'Fallon IL Chevys  on...</td>\n",
              "      <td>2021-10-14 23:15:56</td>\n",
              "    </tr>\n",
              "    <tr>\n",
              "      <th>6990151</th>\n",
              "      <td>1mabac3Qj2mq9fy8zto8sw</td>\n",
              "      <td>Koi0vTAiECoLOm3WY-vWuA</td>\n",
              "      <td>pldnKZNb3fKPmr-zxaqA9w</td>\n",
              "      <td>5.0</td>\n",
              "      <td>0</td>\n",
              "      <td>0</td>\n",
              "      <td>0</td>\n",
              "      <td>It was my first time trying Dewey's pizza and ...</td>\n",
              "      <td>2021-11-20 13:23:34</td>\n",
              "    </tr>\n",
              "  </tbody>\n",
              "</table>\n",
              "<p>32887 rows × 9 columns</p>\n",
              "</div>"
            ],
            "text/plain": [
              "                      review_id                 user_id  \\\n",
              "286      91uC4f0aX4ycQTDL5Hq7Mw  huHPQSQgw4kFakc0Vq7TDA   \n",
              "678      _qA6-L34QD8ruHD7xRI0Yg  ADsAwRQC3nvNvo4Qdvu2HQ   \n",
              "1093     jvoscRFrS3pA4CgwqEceUg  j3cmlhUwxmbHjTwHiLuhVA   \n",
              "2260     4nFZeKPhUu3Km1TDg4Hfnw  0KJs28i3bDhbxhQbgY0i9w   \n",
              "2436     LXA6BSbXwMwQAlGBOtD2EQ  QQn0DByk6xs0hZ72bhJXSA   \n",
              "...                         ...                     ...   \n",
              "6988347  Bpp-WFJ02DVkdrXina2vlg  fY7H7k-l3-VxnnEM-wHLvA   \n",
              "6989213  46FGf2LgBIJD43dlU4z3_A  XW-BonrE_YzzSgfdRD_1KA   \n",
              "6989958  rZ5iXD1lFIyqy2vQWMJq9w  52NYhDgWwaMTXwVqyYDXVQ   \n",
              "6990121  g5l3iICE40ZhBHraMLZitw  WuXBLay-Aek06VP4cZzFew   \n",
              "6990151  1mabac3Qj2mq9fy8zto8sw  Koi0vTAiECoLOm3WY-vWuA   \n",
              "\n",
              "                    business_id  stars  useful  funny  cool  \\\n",
              "286      _D7QoWuQKMXk0mEE7r_Ftw    5.0       1      0     1   \n",
              "678      bQKqeYwaHNal7JFAXzCMFg    5.0       1      0     0   \n",
              "1093     bQKqeYwaHNal7JFAXzCMFg    5.0       0      0     0   \n",
              "2260     sMjjClYrGEXcTFG66qmg8A    5.0       0      0     0   \n",
              "2436     IS0B5nLJPluVT8NwGgospA    1.0       0      0     0   \n",
              "...                         ...    ...     ...    ...   ...   \n",
              "6988347  N6qpuOBs3SE3wn9t0dRNIg    1.0       1      1     0   \n",
              "6989213  0bVcCefYVtvU8MjXC5Na_Q    4.0       1      0     1   \n",
              "6989958  xPxiRUJt-sYZ1Nsm2o8gkw    2.0       0      0     0   \n",
              "6990121  _qW1xzvEfIncBRnn3sHTvQ    1.0       0      0     0   \n",
              "6990151  pldnKZNb3fKPmr-zxaqA9w    5.0       0      0     0   \n",
              "\n",
              "                                                      text  \\\n",
              "286      I have been a fan of Chateau La Vin for a few ...   \n",
              "678      Our 1st visit here. We went through the drive ...   \n",
              "1093     First, I love that they offer food delivery! S...   \n",
              "2260     I was staying in Columbia for a week, and orde...   \n",
              "2436     Worst service in IL.  Lost our order, waited 2...   \n",
              "...                                                    ...   \n",
              "6988347  This location closes at 9 pm. I got in their l...   \n",
              "6989213  The sushi is always good! The bento boxes are ...   \n",
              "6989958  The \"to go\" employee was not very nice. The cu...   \n",
              "6990121  We decided to go to the O'Fallon IL Chevys  on...   \n",
              "6990151  It was my first time trying Dewey's pizza and ...   \n",
              "\n",
              "                        date  \n",
              "286      2014-03-14 13:55:46  \n",
              "678      2015-06-21 04:03:17  \n",
              "1093     2017-06-17 17:00:46  \n",
              "2260     2015-04-29 00:21:06  \n",
              "2436     2018-09-03 01:28:53  \n",
              "...                      ...  \n",
              "6988347  2021-06-27 02:51:34  \n",
              "6989213  2019-01-19 21:37:40  \n",
              "6989958  2022-01-18 05:27:01  \n",
              "6990121  2021-10-14 23:15:56  \n",
              "6990151  2021-11-20 13:23:34  \n",
              "\n",
              "[32887 rows x 9 columns]"
            ]
          },
          "execution_count": 71,
          "metadata": {},
          "output_type": "execute_result"
        }
      ],
      "source": [
        "review_IL = reviews[reviews.business_id.isin(ids)]\n",
        "review_IL"
      ]
    },
    {
      "cell_type": "code",
      "execution_count": 72,
      "metadata": {
        "id": "GtokABvzR6j2"
      },
      "outputs": [
        {
          "data": {
            "text/html": [
              "<div>\n",
              "<style scoped>\n",
              "    .dataframe tbody tr th:only-of-type {\n",
              "        vertical-align: middle;\n",
              "    }\n",
              "\n",
              "    .dataframe tbody tr th {\n",
              "        vertical-align: top;\n",
              "    }\n",
              "\n",
              "    .dataframe thead th {\n",
              "        text-align: right;\n",
              "    }\n",
              "</style>\n",
              "<table border=\"1\" class=\"dataframe\">\n",
              "  <thead>\n",
              "    <tr style=\"text-align: right;\">\n",
              "      <th></th>\n",
              "      <th>review_id</th>\n",
              "      <th>user_id</th>\n",
              "      <th>business_id</th>\n",
              "      <th>stars</th>\n",
              "      <th>useful</th>\n",
              "      <th>funny</th>\n",
              "      <th>cool</th>\n",
              "      <th>text</th>\n",
              "      <th>date</th>\n",
              "      <th>name</th>\n",
              "    </tr>\n",
              "  </thead>\n",
              "  <tbody>\n",
              "    <tr>\n",
              "      <th>0</th>\n",
              "      <td>91uC4f0aX4ycQTDL5Hq7Mw</td>\n",
              "      <td>huHPQSQgw4kFakc0Vq7TDA</td>\n",
              "      <td>_D7QoWuQKMXk0mEE7r_Ftw</td>\n",
              "      <td>5.0</td>\n",
              "      <td>1</td>\n",
              "      <td>0</td>\n",
              "      <td>1</td>\n",
              "      <td>I have been a fan of Chateau La Vin for a few ...</td>\n",
              "      <td>2014-03-14 13:55:46</td>\n",
              "      <td>Chateau La VIn</td>\n",
              "    </tr>\n",
              "    <tr>\n",
              "      <th>1</th>\n",
              "      <td>_qA6-L34QD8ruHD7xRI0Yg</td>\n",
              "      <td>ADsAwRQC3nvNvo4Qdvu2HQ</td>\n",
              "      <td>bQKqeYwaHNal7JFAXzCMFg</td>\n",
              "      <td>5.0</td>\n",
              "      <td>1</td>\n",
              "      <td>0</td>\n",
              "      <td>0</td>\n",
              "      <td>Our 1st visit here. We went through the drive ...</td>\n",
              "      <td>2015-06-21 04:03:17</td>\n",
              "      <td>Super Gyros</td>\n",
              "    </tr>\n",
              "    <tr>\n",
              "      <th>2</th>\n",
              "      <td>jvoscRFrS3pA4CgwqEceUg</td>\n",
              "      <td>j3cmlhUwxmbHjTwHiLuhVA</td>\n",
              "      <td>bQKqeYwaHNal7JFAXzCMFg</td>\n",
              "      <td>5.0</td>\n",
              "      <td>0</td>\n",
              "      <td>0</td>\n",
              "      <td>0</td>\n",
              "      <td>First, I love that they offer food delivery! S...</td>\n",
              "      <td>2017-06-17 17:00:46</td>\n",
              "      <td>Super Gyros</td>\n",
              "    </tr>\n",
              "    <tr>\n",
              "      <th>3</th>\n",
              "      <td>4nFZeKPhUu3Km1TDg4Hfnw</td>\n",
              "      <td>0KJs28i3bDhbxhQbgY0i9w</td>\n",
              "      <td>sMjjClYrGEXcTFG66qmg8A</td>\n",
              "      <td>5.0</td>\n",
              "      <td>0</td>\n",
              "      <td>0</td>\n",
              "      <td>0</td>\n",
              "      <td>I was staying in Columbia for a week, and orde...</td>\n",
              "      <td>2015-04-29 00:21:06</td>\n",
              "      <td>Thai House</td>\n",
              "    </tr>\n",
              "    <tr>\n",
              "      <th>4</th>\n",
              "      <td>LXA6BSbXwMwQAlGBOtD2EQ</td>\n",
              "      <td>QQn0DByk6xs0hZ72bhJXSA</td>\n",
              "      <td>IS0B5nLJPluVT8NwGgospA</td>\n",
              "      <td>1.0</td>\n",
              "      <td>0</td>\n",
              "      <td>0</td>\n",
              "      <td>0</td>\n",
              "      <td>Worst service in IL.  Lost our order, waited 2...</td>\n",
              "      <td>2018-09-03 01:28:53</td>\n",
              "      <td>Cheddar's Scratch Kitchen</td>\n",
              "    </tr>\n",
              "    <tr>\n",
              "      <th>...</th>\n",
              "      <td>...</td>\n",
              "      <td>...</td>\n",
              "      <td>...</td>\n",
              "      <td>...</td>\n",
              "      <td>...</td>\n",
              "      <td>...</td>\n",
              "      <td>...</td>\n",
              "      <td>...</td>\n",
              "      <td>...</td>\n",
              "      <td>...</td>\n",
              "    </tr>\n",
              "    <tr>\n",
              "      <th>32882</th>\n",
              "      <td>Bpp-WFJ02DVkdrXina2vlg</td>\n",
              "      <td>fY7H7k-l3-VxnnEM-wHLvA</td>\n",
              "      <td>N6qpuOBs3SE3wn9t0dRNIg</td>\n",
              "      <td>1.0</td>\n",
              "      <td>1</td>\n",
              "      <td>1</td>\n",
              "      <td>0</td>\n",
              "      <td>This location closes at 9 pm. I got in their l...</td>\n",
              "      <td>2021-06-27 02:51:34</td>\n",
              "      <td>Starbucks</td>\n",
              "    </tr>\n",
              "    <tr>\n",
              "      <th>32883</th>\n",
              "      <td>46FGf2LgBIJD43dlU4z3_A</td>\n",
              "      <td>XW-BonrE_YzzSgfdRD_1KA</td>\n",
              "      <td>0bVcCefYVtvU8MjXC5Na_Q</td>\n",
              "      <td>4.0</td>\n",
              "      <td>1</td>\n",
              "      <td>0</td>\n",
              "      <td>1</td>\n",
              "      <td>The sushi is always good! The bento boxes are ...</td>\n",
              "      <td>2019-01-19 21:37:40</td>\n",
              "      <td>Wasabi Sushi Bar</td>\n",
              "    </tr>\n",
              "    <tr>\n",
              "      <th>32884</th>\n",
              "      <td>rZ5iXD1lFIyqy2vQWMJq9w</td>\n",
              "      <td>52NYhDgWwaMTXwVqyYDXVQ</td>\n",
              "      <td>xPxiRUJt-sYZ1Nsm2o8gkw</td>\n",
              "      <td>2.0</td>\n",
              "      <td>0</td>\n",
              "      <td>0</td>\n",
              "      <td>0</td>\n",
              "      <td>The \"to go\" employee was not very nice. The cu...</td>\n",
              "      <td>2022-01-18 05:27:01</td>\n",
              "      <td>Chili's</td>\n",
              "    </tr>\n",
              "    <tr>\n",
              "      <th>32885</th>\n",
              "      <td>g5l3iICE40ZhBHraMLZitw</td>\n",
              "      <td>WuXBLay-Aek06VP4cZzFew</td>\n",
              "      <td>_qW1xzvEfIncBRnn3sHTvQ</td>\n",
              "      <td>1.0</td>\n",
              "      <td>0</td>\n",
              "      <td>0</td>\n",
              "      <td>0</td>\n",
              "      <td>We decided to go to the O'Fallon IL Chevys  on...</td>\n",
              "      <td>2021-10-14 23:15:56</td>\n",
              "      <td>Chevys Fresh Mex</td>\n",
              "    </tr>\n",
              "    <tr>\n",
              "      <th>32886</th>\n",
              "      <td>1mabac3Qj2mq9fy8zto8sw</td>\n",
              "      <td>Koi0vTAiECoLOm3WY-vWuA</td>\n",
              "      <td>pldnKZNb3fKPmr-zxaqA9w</td>\n",
              "      <td>5.0</td>\n",
              "      <td>0</td>\n",
              "      <td>0</td>\n",
              "      <td>0</td>\n",
              "      <td>It was my first time trying Dewey's pizza and ...</td>\n",
              "      <td>2021-11-20 13:23:34</td>\n",
              "      <td>Dewey's Pizza</td>\n",
              "    </tr>\n",
              "  </tbody>\n",
              "</table>\n",
              "<p>32887 rows × 10 columns</p>\n",
              "</div>"
            ],
            "text/plain": [
              "                    review_id                 user_id             business_id  \\\n",
              "0      91uC4f0aX4ycQTDL5Hq7Mw  huHPQSQgw4kFakc0Vq7TDA  _D7QoWuQKMXk0mEE7r_Ftw   \n",
              "1      _qA6-L34QD8ruHD7xRI0Yg  ADsAwRQC3nvNvo4Qdvu2HQ  bQKqeYwaHNal7JFAXzCMFg   \n",
              "2      jvoscRFrS3pA4CgwqEceUg  j3cmlhUwxmbHjTwHiLuhVA  bQKqeYwaHNal7JFAXzCMFg   \n",
              "3      4nFZeKPhUu3Km1TDg4Hfnw  0KJs28i3bDhbxhQbgY0i9w  sMjjClYrGEXcTFG66qmg8A   \n",
              "4      LXA6BSbXwMwQAlGBOtD2EQ  QQn0DByk6xs0hZ72bhJXSA  IS0B5nLJPluVT8NwGgospA   \n",
              "...                       ...                     ...                     ...   \n",
              "32882  Bpp-WFJ02DVkdrXina2vlg  fY7H7k-l3-VxnnEM-wHLvA  N6qpuOBs3SE3wn9t0dRNIg   \n",
              "32883  46FGf2LgBIJD43dlU4z3_A  XW-BonrE_YzzSgfdRD_1KA  0bVcCefYVtvU8MjXC5Na_Q   \n",
              "32884  rZ5iXD1lFIyqy2vQWMJq9w  52NYhDgWwaMTXwVqyYDXVQ  xPxiRUJt-sYZ1Nsm2o8gkw   \n",
              "32885  g5l3iICE40ZhBHraMLZitw  WuXBLay-Aek06VP4cZzFew  _qW1xzvEfIncBRnn3sHTvQ   \n",
              "32886  1mabac3Qj2mq9fy8zto8sw  Koi0vTAiECoLOm3WY-vWuA  pldnKZNb3fKPmr-zxaqA9w   \n",
              "\n",
              "       stars  useful  funny  cool  \\\n",
              "0        5.0       1      0     1   \n",
              "1        5.0       1      0     0   \n",
              "2        5.0       0      0     0   \n",
              "3        5.0       0      0     0   \n",
              "4        1.0       0      0     0   \n",
              "...      ...     ...    ...   ...   \n",
              "32882    1.0       1      1     0   \n",
              "32883    4.0       1      0     1   \n",
              "32884    2.0       0      0     0   \n",
              "32885    1.0       0      0     0   \n",
              "32886    5.0       0      0     0   \n",
              "\n",
              "                                                    text                 date  \\\n",
              "0      I have been a fan of Chateau La Vin for a few ...  2014-03-14 13:55:46   \n",
              "1      Our 1st visit here. We went through the drive ...  2015-06-21 04:03:17   \n",
              "2      First, I love that they offer food delivery! S...  2017-06-17 17:00:46   \n",
              "3      I was staying in Columbia for a week, and orde...  2015-04-29 00:21:06   \n",
              "4      Worst service in IL.  Lost our order, waited 2...  2018-09-03 01:28:53   \n",
              "...                                                  ...                  ...   \n",
              "32882  This location closes at 9 pm. I got in their l...  2021-06-27 02:51:34   \n",
              "32883  The sushi is always good! The bento boxes are ...  2019-01-19 21:37:40   \n",
              "32884  The \"to go\" employee was not very nice. The cu...  2022-01-18 05:27:01   \n",
              "32885  We decided to go to the O'Fallon IL Chevys  on...  2021-10-14 23:15:56   \n",
              "32886  It was my first time trying Dewey's pizza and ...  2021-11-20 13:23:34   \n",
              "\n",
              "                            name  \n",
              "0                 Chateau La VIn  \n",
              "1                    Super Gyros  \n",
              "2                    Super Gyros  \n",
              "3                     Thai House  \n",
              "4      Cheddar's Scratch Kitchen  \n",
              "...                          ...  \n",
              "32882                  Starbucks  \n",
              "32883           Wasabi Sushi Bar  \n",
              "32884                    Chili's  \n",
              "32885           Chevys Fresh Mex  \n",
              "32886              Dewey's Pizza  \n",
              "\n",
              "[32887 rows x 10 columns]"
            ]
          },
          "execution_count": 72,
          "metadata": {},
          "output_type": "execute_result"
        }
      ],
      "source": [
        "review_IL = pd.merge(review_IL, business_in_IL[['business_id', 'name']], on = 'business_id', how = 'left')\n",
        "review_IL"
      ]
    },
    {
      "cell_type": "code",
      "execution_count": 73,
      "metadata": {
        "id": "9h65Zwq5R6j2"
      },
      "outputs": [],
      "source": [
        "review_IL.to_csv(\"D:\\\\Workspace\\\\Data_Mining\\\\Restaurant_Recomendation_System\\\\data\\\\Review_IL_restaurants.csv\")"
      ]
    },
    {
      "cell_type": "markdown",
      "metadata": {
        "id": "i_z2QhLJR6j5"
      },
      "source": []
    }
  ],
  "metadata": {
    "colab": {
      "provenance": []
    },
    "kernelspec": {
      "display_name": ".venv",
      "language": "python",
      "name": "python3"
    },
    "language_info": {
      "codemirror_mode": {
        "name": "ipython",
        "version": 3
      },
      "file_extension": ".py",
      "mimetype": "text/x-python",
      "name": "python",
      "nbconvert_exporter": "python",
      "pygments_lexer": "ipython3",
      "version": "3.12.8"
    }
  },
  "nbformat": 4,
  "nbformat_minor": 0
}
