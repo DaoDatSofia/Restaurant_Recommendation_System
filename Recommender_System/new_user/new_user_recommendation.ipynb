{
  "cells": [
    {
      "cell_type": "code",
      "execution_count": 4,
      "metadata": {
        "colab": {
          "base_uri": "https://localhost:8080/"
        },
        "id": "pXS7YTl4tfI_",
        "outputId": "d0e09c4c-31a4-4502-b572-071c403aa722"
      },
      "outputs": [
        {
          "name": "stderr",
          "output_type": "stream",
          "text": [
            "[nltk_data] Downloading package stopwords to /root/nltk_data...\n",
            "[nltk_data]   Package stopwords is already up-to-date!\n"
          ]
        },
        {
          "name": "stdout",
          "output_type": "stream",
          "text": [
            "Nhập Input: I want to have breakfast\n",
            "\n",
            "Gợi ý nhà hàng:\n",
            "1. Circle K (Rating: 2.5)\n",
            "   Categories: Automotive, Gas Stations, Food, Convenience Stores\n",
            "2. Auntie Anne's (Rating: 1.0)\n",
            "   Categories: Pretzels, Food\n",
            "3. Walgreens (Rating: 3.0)\n",
            "   Categories: Shopping, Convenience Stores, Photography Stores & Services, Food, Cosmetics & Beauty Supply, Beauty & Spas, Drugstores\n",
            "4. Hardee's (Rating: 3.0)\n",
            "   Categories: Burgers, Breakfast & Brunch, Restaurants, Fast Food\n",
            "5. Pilot Travel Center (Rating: 3.0)\n",
            "   Categories: Automotive, Gas Stations, Food, Convenience Stores\n"
          ]
        }
      ],
      "source": [
        "import nltk\n",
        "nltk.download('stopwords')\n",
        "\n",
        "from nltk.corpus import stopwords\n",
        "import pandas as pd\n",
        "import numpy as np\n",
        "import string\n",
        "import pickle\n",
        "\n",
        "# Tải dữ liệu và model đã lưu\n",
        "df_business = pickle.load(open('D:\\\\Workspace\\\\Data_Mining\\\\Restaurant_Recomendation_System\\\\models\\\\recom_business.pkl', 'rb'))\n",
        "Q = pickle.load(open('D:\\\\Workspace\\\\Data_Mining\\\\Restaurant_Recomendation_System\\\\models\\\\recom_q.pkl', 'rb'))\n",
        "user_id_vectorizer = pickle.load(open('D:\\\\Workspace\\\\Data_Mining\\\\Restaurant_Recomendation_System\\\\models\\\\recom_user_id_vec.pkl', 'rb'))\n",
        "\n",
        "stop_words = list(stopwords.words('english'))\n",
        "\n",
        "# Hàm xử lý văn bản\n",
        "def text_process(text):\n",
        "    \"\"\"\n",
        "    Loại bỏ dấu câu và stop words.\n",
        "    \"\"\"\n",
        "    nopunc = [char for char in text if char not in string.punctuation]\n",
        "    return \" \".join([word for word in nopunc if word.lower() not in stop_words])\n",
        "\n",
        "# Hàm gợi ý\n",
        "def recommender(input_text):\n",
        "    # Chuẩn bị dữ liệu đầu vào\n",
        "    test_df = pd.DataFrame([input_text], columns=['text'])\n",
        "    test_df['text'] = test_df['text'].apply(text_process)\n",
        "\n",
        "    # Vector hóa văn bản\n",
        "    test_vectors = user_id_vectorizer.transform(test_df['text'])\n",
        "    test_v_df = pd.DataFrame(test_vectors.toarray(), index=test_df.index, columns=user_id_vectorizer.get_feature_names_out())\n",
        "\n",
        "    # Tính toán rating dự đoán\n",
        "    predictItemRating = pd.DataFrame(np.dot(test_v_df.loc[0], Q.T), index=Q.index, columns=['Rating'])\n",
        "    topRecommendations = predictItemRating.sort_values('Rating', ascending=False)[:5]\n",
        "\n",
        "    # Lấy thông tin gợi ý\n",
        "    recommendations = []\n",
        "    for i in topRecommendations.index:\n",
        "        temp = {\n",
        "            'name': df_business[df_business['business_id'] == i]['name'].iloc[0],\n",
        "            'categories': df_business[df_business['business_id'] == i]['categories'].iloc[0],\n",
        "            'rating': df_business[df_business['business_id'] == i]['stars'].iloc[0],\n",
        "        }\n",
        "        recommendations.append(temp)\n",
        "    return recommendations\n",
        "\n",
        "# Nhập văn bản từ người dùng\n",
        "if __name__ == \"__main__\":\n",
        "    input_text = input(\"Nhập Input: \")\n",
        "    recommendations = recommender(input_text)\n",
        "\n",
        "    # Hiển thị kết quả\n",
        "    print(\"\\nGợi ý nhà hàng:\")\n",
        "    for idx, rec in enumerate(recommendations, 1):\n",
        "        print(f\"{idx}. {rec['name']} (Rating: {rec['rating']})\")\n",
        "        print(f\"   Categories: {rec['categories']}\")\n"
      ]
    }
  ],
  "metadata": {
    "colab": {
      "provenance": []
    },
    "kernelspec": {
      "display_name": "Python 3",
      "name": "python3"
    },
    "language_info": {
      "name": "python"
    }
  },
  "nbformat": 4,
  "nbformat_minor": 0
}
