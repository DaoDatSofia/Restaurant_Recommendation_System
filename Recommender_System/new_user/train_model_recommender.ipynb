{
  "cells": [
    {
      "cell_type": "code",
      "execution_count": 8,
      "metadata": {
        "colab": {
          "base_uri": "https://localhost:8080/"
        },
        "id": "o_3zV5Xz2L2X",
        "outputId": "cd1113a3-1168-4ca9-adc1-e1aa9d52bc80"
      },
      "outputs": [
        {
          "name": "stderr",
          "output_type": "stream",
          "text": [
            "[nltk_data] Downloading package stopwords to /root/nltk_data...\n",
            "[nltk_data]   Package stopwords is already up-to-date!\n"
          ]
        }
      ],
      "source": [
        "import os\n",
        "import numpy as np\n",
        "import pandas as pd\n",
        "import matplotlib.pyplot as plt\n",
        "import nltk\n",
        "nltk.download('stopwords')\n",
        "from sklearn.model_selection import train_test_split\n",
        "from sklearn.feature_extraction.text import TfidfVectorizer\n",
        "from nltk.corpus import stopwords\n",
        "from nltk.tokenize import WordPunctTokenizer\n",
        "import string\n",
        "import pickle\n",
        "import warnings\n",
        "warnings.filterwarnings('ignore')"
      ]
    },
    {
      "cell_type": "code",
      "execution_count": 9,
      "metadata": {
        "id": "cBSTg0BU1nX_"
      },
      "outputs": [],
      "source": [
        "\n",
        "\n",
        "review_IL = pd.read_csv(\"D:\\\\Workspace\\\\Data_Mining\\\\Restaurant_Recomendation_System\\\\data\\\\Review_IL_restaurants.csv\")\n",
        "business_IL = pd.read_csv(\"D:\\\\Workspace\\\\Data_Mining\\\\Restaurant_Recomendation_System\\\\data\\\\Business_in_Illinois.csv\")\n",
        "data = review_IL[['business_id', 'user_id', 'stars', 'text']]\n",
        "\n",
        "stop_words = list(stopwords.words('english'))\n",
        "\n",
        "def text_process(text):\n",
        "\t\"\"\"\n",
        "\tremoves punctuation\n",
        "\tremoves the stop words\n",
        "\n",
        "\t\"\"\"\n",
        "\n",
        "\tnopunc = [char for char in text if char not in string.punctuation]\n",
        "\treturn \" \".join([word for word in nopunc if word.lower() not in stop_words])\n",
        "\n",
        "data['text'] = data['text'].apply(text_process)\n",
        "\n",
        "\n",
        "X_train, X_test, y_train, y_test = train_test_split(review_IL['text'], review_IL['business_id'], test_size = 0.2)\n",
        "\n",
        "\n",
        "users_df = review_IL[['user_id','text']]\n",
        "business_df = review_IL[['business_id', 'text']]\n",
        "\n",
        "\n",
        "business_id_df = business_df.groupby('business_id').agg({'text': ' '.join})\n",
        "\n",
        "\n",
        "user_id_df = users_df.groupby('user_id').agg({'text': ' '.join})\n",
        "\n",
        "user_id_vectorizer = TfidfVectorizer(tokenizer = WordPunctTokenizer().tokenize, max_features = 5000)\n",
        "user_id_vectors = user_id_vectorizer.fit_transform(user_id_df['text'])\n",
        "\n",
        "business_id_vectorizer = TfidfVectorizer(tokenizer = WordPunctTokenizer().tokenize, max_features = 5000)\n",
        "busniess_id_vectors = business_id_vectorizer.fit_transform(business_id_df['text'])\n",
        "\n",
        "userid_rating_matrix = pd.pivot_table(data, values = 'stars', index = ['user_id'], columns = ['business_id'])\n",
        "P = pd.DataFrame(user_id_vectors.toarray(), index = user_id_df.index, columns = user_id_vectorizer.get_feature_names_out())\n",
        "Q = pd.DataFrame(busniess_id_vectors.toarray(), index = business_id_df.index, columns = business_id_vectorizer.get_feature_names_out())\n",
        "\n",
        "def matrix_factorization(R, P, Q, steps=1, gamma=0.001,lamda=0.02):\n",
        "    for step in range(steps):\n",
        "        for i in R.index:\n",
        "            for j in R.columns:\n",
        "                if R.loc[i,j]>0:\n",
        "                    eij=R.loc[i,j]-np.dot(P.loc[i],Q.loc[j])\n",
        "                    P.loc[i]=P.loc[i]+gamma*(eij*Q.loc[j]-lamda*P.loc[i])\n",
        "                    Q.loc[j]=Q.loc[j]+gamma*(eij*P.loc[i]-lamda*Q.loc[j])\n",
        "        e=0\n",
        "        for i in R.index:\n",
        "            for j in R.columns:\n",
        "                if R.loc[i,j]>0:\n",
        "                    e= e + pow(R.loc[i,j]-np.dot(P.loc[i],Q.loc[j]),2)+lamda*(pow(np.linalg.norm(P.loc[i]),2)+pow(np.linalg.norm(Q.loc[j]),2))\n",
        "        if e<0.001:\n",
        "            break\n",
        "\n",
        "    return P,Q\n",
        "\n",
        "P, Q = matrix_factorization(userid_rating_matrix, P, Q, steps=1, gamma=0.001,lamda=0.02)\n",
        "\n",
        "df_business = business_IL[['business_id','name', 'categories', 'stars', 'review_count']]\n",
        "\n",
        "# export model\n",
        "recom_q = open('D:\\\\Workspace\\\\Data_Mining\\\\Restaurant_Recomendation_System\\\\models\\\\recom_q.pkl', 'wb')\n",
        "recom_user_id_vec = open('D:\\\\Workspace\\\\Data_Mining\\\\Restaurant_Recomendation_System\\\\models\\\\recom_user_id_vec.pkl', 'wb')\n",
        "recom_business = open('D:\\\\Workspace\\\\Data_Mining\\\\Restaurant_Recomendation_System\\\\models\\\\recom_business.pkl','wb')\n",
        "\n",
        "pickle.dump(Q,recom_q)\n",
        "pickle.dump(user_id_vectorizer,recom_user_id_vec)\n",
        "pickle.dump(df_business,recom_business)\n",
        "recom_user_id_vec.close()\n",
        "recom_business.close()\n",
        "recom_q.close()"
      ]
    }
  ],
  "metadata": {
    "colab": {
      "provenance": []
    },
    "kernelspec": {
      "display_name": "Python 3",
      "name": "python3"
    },
    "language_info": {
      "name": "python"
    }
  },
  "nbformat": 4,
  "nbformat_minor": 0
}
